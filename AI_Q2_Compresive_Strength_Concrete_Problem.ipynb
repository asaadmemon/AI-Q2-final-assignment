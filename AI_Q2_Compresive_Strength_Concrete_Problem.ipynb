{
  "nbformat": 4,
  "nbformat_minor": 0,
  "metadata": {
    "colab": {
      "name": "AI-Q2-Compresive Strength Concrete Problem",
      "provenance": [],
      "collapsed_sections": []
    },
    "kernelspec": {
      "name": "python3",
      "display_name": "Python 3"
    },
    "language_info": {
      "name": "python"
    }
  },
  "cells": [
    {
      "cell_type": "code",
      "metadata": {
        "colab": {
          "resources": {
            "http://localhost:8080/nbextensions/google.colab/files.js": {
              "data": "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",
              "ok": true,
              "headers": [
                [
                  "content-type",
                  "application/javascript"
                ]
              ],
              "status": 200,
              "status_text": ""
            }
          },
          "base_uri": "https://localhost:8080/",
          "height": 89
        },
        "id": "3c_ChrMxd5or",
        "outputId": "121912a3-df4f-499d-ac7b-d6b57b8fd3f9"
      },
      "source": [
        "import pandas as pd\n",
        "import numpy as np\n",
        "import keras\n",
        "\n",
        "from google.colab import files\n",
        "uploaded = files.upload()"
      ],
      "execution_count": 1,
      "outputs": [
        {
          "output_type": "display_data",
          "data": {
            "text/html": [
              "\n",
              "     <input type=\"file\" id=\"files-a5d46e47-7418-4c54-8f86-880216ba2573\" name=\"files[]\" multiple disabled\n",
              "        style=\"border:none\" />\n",
              "     <output id=\"result-a5d46e47-7418-4c54-8f86-880216ba2573\">\n",
              "      Upload widget is only available when the cell has been executed in the\n",
              "      current browser session. Please rerun this cell to enable.\n",
              "      </output>\n",
              "      <script src=\"/nbextensions/google.colab/files.js\"></script> "
            ],
            "text/plain": [
              "<IPython.core.display.HTML object>"
            ]
          },
          "metadata": {
            "tags": []
          }
        },
        {
          "output_type": "stream",
          "text": [
            "Saving compresive_strength_concrete.csv to compresive_strength_concrete.csv\n"
          ],
          "name": "stdout"
        }
      ]
    },
    {
      "cell_type": "code",
      "metadata": {
        "colab": {
          "base_uri": "https://localhost:8080/",
          "height": 326
        },
        "id": "eDK1Q-m2ewUH",
        "outputId": "a056d436-d873-44fc-facb-deed9baaa8e1"
      },
      "source": [
        "concrete_data = pd.read_csv('compresive_strength_concrete.csv')\n",
        "concrete_data.head()"
      ],
      "execution_count": 2,
      "outputs": [
        {
          "output_type": "execute_result",
          "data": {
            "text/html": [
              "<div>\n",
              "<style scoped>\n",
              "    .dataframe tbody tr th:only-of-type {\n",
              "        vertical-align: middle;\n",
              "    }\n",
              "\n",
              "    .dataframe tbody tr th {\n",
              "        vertical-align: top;\n",
              "    }\n",
              "\n",
              "    .dataframe thead th {\n",
              "        text-align: right;\n",
              "    }\n",
              "</style>\n",
              "<table border=\"1\" class=\"dataframe\">\n",
              "  <thead>\n",
              "    <tr style=\"text-align: right;\">\n",
              "      <th></th>\n",
              "      <th>Cement (component 1)(kg in a m^3 mixture)</th>\n",
              "      <th>Blast Furnace Slag (component 2)(kg in a m^3 mixture)</th>\n",
              "      <th>Fly Ash (component 3)(kg in a m^3 mixture)</th>\n",
              "      <th>Water  (component 4)(kg in a m^3 mixture)</th>\n",
              "      <th>Superplasticizer (component 5)(kg in a m^3 mixture)</th>\n",
              "      <th>Coarse Aggregate  (component 6)(kg in a m^3 mixture)</th>\n",
              "      <th>Fine Aggregate (component 7)(kg in a m^3 mixture)</th>\n",
              "      <th>Age (day)</th>\n",
              "      <th>Concrete compressive strength(MPa, megapascals)</th>\n",
              "    </tr>\n",
              "  </thead>\n",
              "  <tbody>\n",
              "    <tr>\n",
              "      <th>0</th>\n",
              "      <td>540.0</td>\n",
              "      <td>0.0</td>\n",
              "      <td>0.0</td>\n",
              "      <td>162.0</td>\n",
              "      <td>2.5</td>\n",
              "      <td>1040.0</td>\n",
              "      <td>676.0</td>\n",
              "      <td>28</td>\n",
              "      <td>79.99</td>\n",
              "    </tr>\n",
              "    <tr>\n",
              "      <th>1</th>\n",
              "      <td>540.0</td>\n",
              "      <td>0.0</td>\n",
              "      <td>0.0</td>\n",
              "      <td>162.0</td>\n",
              "      <td>2.5</td>\n",
              "      <td>1055.0</td>\n",
              "      <td>676.0</td>\n",
              "      <td>28</td>\n",
              "      <td>61.89</td>\n",
              "    </tr>\n",
              "    <tr>\n",
              "      <th>2</th>\n",
              "      <td>332.5</td>\n",
              "      <td>142.5</td>\n",
              "      <td>0.0</td>\n",
              "      <td>228.0</td>\n",
              "      <td>0.0</td>\n",
              "      <td>932.0</td>\n",
              "      <td>594.0</td>\n",
              "      <td>270</td>\n",
              "      <td>40.27</td>\n",
              "    </tr>\n",
              "    <tr>\n",
              "      <th>3</th>\n",
              "      <td>332.5</td>\n",
              "      <td>142.5</td>\n",
              "      <td>0.0</td>\n",
              "      <td>228.0</td>\n",
              "      <td>0.0</td>\n",
              "      <td>932.0</td>\n",
              "      <td>594.0</td>\n",
              "      <td>365</td>\n",
              "      <td>41.05</td>\n",
              "    </tr>\n",
              "    <tr>\n",
              "      <th>4</th>\n",
              "      <td>198.6</td>\n",
              "      <td>132.4</td>\n",
              "      <td>0.0</td>\n",
              "      <td>192.0</td>\n",
              "      <td>0.0</td>\n",
              "      <td>978.4</td>\n",
              "      <td>825.5</td>\n",
              "      <td>360</td>\n",
              "      <td>44.30</td>\n",
              "    </tr>\n",
              "  </tbody>\n",
              "</table>\n",
              "</div>"
            ],
            "text/plain": [
              "   Cement (component 1)(kg in a m^3 mixture)  ...  Concrete compressive strength(MPa, megapascals) \n",
              "0                                      540.0  ...                                             79.99\n",
              "1                                      540.0  ...                                             61.89\n",
              "2                                      332.5  ...                                             40.27\n",
              "3                                      332.5  ...                                             41.05\n",
              "4                                      198.6  ...                                             44.30\n",
              "\n",
              "[5 rows x 9 columns]"
            ]
          },
          "metadata": {
            "tags": []
          },
          "execution_count": 2
        }
      ]
    },
    {
      "cell_type": "code",
      "metadata": {
        "colab": {
          "base_uri": "https://localhost:8080/"
        },
        "id": "rI2m01kKfJwI",
        "outputId": "a96fa2b5-b440-4224-c475-a1b7e04b6cdc"
      },
      "source": [
        "concrete_data.shape"
      ],
      "execution_count": 4,
      "outputs": [
        {
          "output_type": "execute_result",
          "data": {
            "text/plain": [
              "(1030, 9)"
            ]
          },
          "metadata": {
            "tags": []
          },
          "execution_count": 4
        }
      ]
    },
    {
      "cell_type": "code",
      "metadata": {
        "colab": {
          "base_uri": "https://localhost:8080/"
        },
        "id": "KB5iVEQKfN3y",
        "outputId": "8f81c25f-f5cb-4aa1-da5d-450ece1159d1"
      },
      "source": [
        "concrete_data.size"
      ],
      "execution_count": 5,
      "outputs": [
        {
          "output_type": "execute_result",
          "data": {
            "text/plain": [
              "9270"
            ]
          },
          "metadata": {
            "tags": []
          },
          "execution_count": 5
        }
      ]
    },
    {
      "cell_type": "code",
      "metadata": {
        "colab": {
          "base_uri": "https://localhost:8080/"
        },
        "id": "qPZ7D03sfBZb",
        "outputId": "6c1729d5-209b-4057-f1ac-dd6cd822cc98"
      },
      "source": [
        "concrete_data.isnull().sum()"
      ],
      "execution_count": 3,
      "outputs": [
        {
          "output_type": "execute_result",
          "data": {
            "text/plain": [
              "Cement (component 1)(kg in a m^3 mixture)                0\n",
              "Blast Furnace Slag (component 2)(kg in a m^3 mixture)    0\n",
              "Fly Ash (component 3)(kg in a m^3 mixture)               0\n",
              "Water  (component 4)(kg in a m^3 mixture)                0\n",
              "Superplasticizer (component 5)(kg in a m^3 mixture)      0\n",
              "Coarse Aggregate  (component 6)(kg in a m^3 mixture)     0\n",
              "Fine Aggregate (component 7)(kg in a m^3 mixture)        0\n",
              "Age (day)                                                0\n",
              "Concrete compressive strength(MPa, megapascals)          0\n",
              "dtype: int64"
            ]
          },
          "metadata": {
            "tags": []
          },
          "execution_count": 3
        }
      ]
    },
    {
      "cell_type": "code",
      "metadata": {
        "colab": {
          "base_uri": "https://localhost:8080/"
        },
        "id": "fVwmDQNOfiY4",
        "outputId": "9a5bb859-b3ee-413b-f1ff-1585cb6c54ff"
      },
      "source": [
        "concrete_data = concrete_data.sample(frac=1).reset_index(drop=True)\n",
        "data = concrete_data.drop('Concrete compressive strength(MPa, megapascals) ',1)\n",
        "targets = concrete_data.loc[:, 'Concrete compressive strength(MPa, megapascals) ']\n",
        "\n",
        "data.shape"
      ],
      "execution_count": 8,
      "outputs": [
        {
          "output_type": "execute_result",
          "data": {
            "text/plain": [
              "(1030, 8)"
            ]
          },
          "metadata": {
            "tags": []
          },
          "execution_count": 8
        }
      ]
    },
    {
      "cell_type": "code",
      "metadata": {
        "colab": {
          "base_uri": "https://localhost:8080/"
        },
        "id": "TrVLDxlgmlyu",
        "outputId": "446cf37f-79c6-48cb-ae26-ff6bf2be7c4b"
      },
      "source": [
        "targets.shape"
      ],
      "execution_count": 9,
      "outputs": [
        {
          "output_type": "execute_result",
          "data": {
            "text/plain": [
              "(1030,)"
            ]
          },
          "metadata": {
            "tags": []
          },
          "execution_count": 9
        }
      ]
    },
    {
      "cell_type": "code",
      "metadata": {
        "colab": {
          "base_uri": "https://localhost:8080/"
        },
        "id": "CyVI0xbDmwl6",
        "outputId": "5408d002-9b90-4b4b-ebb5-4cf46f4d3cb6"
      },
      "source": [
        "train_data = data.iloc[0:515]\n",
        "train_targets = targets.iloc[0:515]\n",
        "\n",
        "val_data = data.iloc[515:721]\n",
        "val_targets = targets.iloc[515:721]\n",
        "\n",
        "test_data = data.iloc[721:]\n",
        "test_targets =targets.iloc[721:]\n",
        "\n",
        "print('train_data shape:', train_data.shape)\n",
        "print('train_targets shape:',train_targets.shape)\n",
        "\n",
        "print('val_data shape:', val_data.shape)\n",
        "print('val_targets shape:', val_targets.shape)\n",
        "\n",
        "print('test_data shape:', test_data.shape)\n",
        "print('test_targets shape:', test_targets.shape)"
      ],
      "execution_count": 12,
      "outputs": [
        {
          "output_type": "stream",
          "text": [
            "train_data shape: (515, 8)\n",
            "train_targets shape: (515,)\n",
            "val_data shape: (206, 8)\n",
            "val_targets shape: (206,)\n",
            "test_data shape: (309, 8)\n",
            "test_targets shape: (309,)\n"
          ],
          "name": "stdout"
        }
      ]
    },
    {
      "cell_type": "code",
      "metadata": {
        "colab": {
          "base_uri": "https://localhost:8080/",
          "height": 162
        },
        "id": "HCxETI17ntAH",
        "outputId": "993cc34d-67d5-448e-c509-b478caeb9e51"
      },
      "source": [
        "mean = train_data.mean()\n",
        "std = train_data.std()\n",
        "\n",
        "train_data -= mean\n",
        "train_data /= std\n",
        "\n",
        "val_data -= mean\n",
        "val_data /= std\n",
        "\n",
        "test_data -= mean\n",
        "test_data /= std\n",
        "\n",
        "train_data.head(2)"
      ],
      "execution_count": 13,
      "outputs": [
        {
          "output_type": "execute_result",
          "data": {
            "text/html": [
              "<div>\n",
              "<style scoped>\n",
              "    .dataframe tbody tr th:only-of-type {\n",
              "        vertical-align: middle;\n",
              "    }\n",
              "\n",
              "    .dataframe tbody tr th {\n",
              "        vertical-align: top;\n",
              "    }\n",
              "\n",
              "    .dataframe thead th {\n",
              "        text-align: right;\n",
              "    }\n",
              "</style>\n",
              "<table border=\"1\" class=\"dataframe\">\n",
              "  <thead>\n",
              "    <tr style=\"text-align: right;\">\n",
              "      <th></th>\n",
              "      <th>Cement (component 1)(kg in a m^3 mixture)</th>\n",
              "      <th>Blast Furnace Slag (component 2)(kg in a m^3 mixture)</th>\n",
              "      <th>Fly Ash (component 3)(kg in a m^3 mixture)</th>\n",
              "      <th>Water  (component 4)(kg in a m^3 mixture)</th>\n",
              "      <th>Superplasticizer (component 5)(kg in a m^3 mixture)</th>\n",
              "      <th>Coarse Aggregate  (component 6)(kg in a m^3 mixture)</th>\n",
              "      <th>Fine Aggregate (component 7)(kg in a m^3 mixture)</th>\n",
              "      <th>Age (day)</th>\n",
              "    </tr>\n",
              "  </thead>\n",
              "  <tbody>\n",
              "    <tr>\n",
              "      <th>0</th>\n",
              "      <td>-0.352224</td>\n",
              "      <td>-0.809045</td>\n",
              "      <td>0.715400</td>\n",
              "      <td>-1.116861</td>\n",
              "      <td>1.126318</td>\n",
              "      <td>0.172536</td>\n",
              "      <td>1.436312</td>\n",
              "      <td>-0.650628</td>\n",
              "    </tr>\n",
              "    <tr>\n",
              "      <th>1</th>\n",
              "      <td>-0.903960</td>\n",
              "      <td>-0.809045</td>\n",
              "      <td>1.133728</td>\n",
              "      <td>-0.931872</td>\n",
              "      <td>0.633913</td>\n",
              "      <td>1.485170</td>\n",
              "      <td>0.354633</td>\n",
              "      <td>0.840364</td>\n",
              "    </tr>\n",
              "  </tbody>\n",
              "</table>\n",
              "</div>"
            ],
            "text/plain": [
              "   Cement (component 1)(kg in a m^3 mixture)  ...  Age (day)\n",
              "0                                  -0.352224  ...  -0.650628\n",
              "1                                  -0.903960  ...   0.840364\n",
              "\n",
              "[2 rows x 8 columns]"
            ]
          },
          "metadata": {
            "tags": []
          },
          "execution_count": 13
        }
      ]
    },
    {
      "cell_type": "code",
      "metadata": {
        "colab": {
          "base_uri": "https://localhost:8080/"
        },
        "id": "-u0-otsPoVCr",
        "outputId": "62e1b4e9-b701-4fdc-fe86-a2ce010c4317"
      },
      "source": [
        "from keras import models, layers, regularizers\n",
        "  \n",
        "model = models.Sequential()\n",
        "model.add(layers.Dense(10, activation='relu', input_shape=(train_data.shape[1],), kernel_regularizer=regularizers.L2(0.001)))\n",
        "model.add(layers.Dense(8, activation='relu', kernel_regularizer=regularizers.L2(0.001)))\n",
        "model.add(layers.Dense(6, activation='relu', kernel_regularizer=regularizers.L2(0.001)))\n",
        "model.add(layers.Dense(1))\n",
        "    \n",
        "model.compile(optimizer='Adam', loss='mse', metrics=['mae'])\n",
        "\n",
        "history = model.fit(train_data, train_targets, validation_data = (val_data, val_targets), epochs=100, verbose=1)"
      ],
      "execution_count": 22,
      "outputs": [
        {
          "output_type": "stream",
          "text": [
            "Epoch 1/100\n",
            "17/17 [==============================] - 1s 14ms/step - loss: 1552.8844 - mae: 35.7935 - val_loss: 1661.0819 - val_mae: 37.2014\n",
            "Epoch 2/100\n",
            "17/17 [==============================] - 0s 4ms/step - loss: 1441.0781 - mae: 34.1060 - val_loss: 1652.0256 - val_mae: 37.0841\n",
            "Epoch 3/100\n",
            "17/17 [==============================] - 0s 4ms/step - loss: 1584.4748 - mae: 35.8766 - val_loss: 1642.2529 - val_mae: 36.9504\n",
            "Epoch 4/100\n",
            "17/17 [==============================] - 0s 4ms/step - loss: 1523.1470 - mae: 35.2035 - val_loss: 1628.3258 - val_mae: 36.7641\n",
            "Epoch 5/100\n",
            "17/17 [==============================] - 0s 4ms/step - loss: 1570.7264 - mae: 35.9616 - val_loss: 1605.2876 - val_mae: 36.4729\n",
            "Epoch 6/100\n",
            "17/17 [==============================] - 0s 4ms/step - loss: 1391.3078 - mae: 33.6294 - val_loss: 1573.2799 - val_mae: 36.0642\n",
            "Epoch 7/100\n",
            "17/17 [==============================] - 0s 4ms/step - loss: 1479.1786 - mae: 34.8441 - val_loss: 1531.5073 - val_mae: 35.5293\n",
            "Epoch 8/100\n",
            "17/17 [==============================] - 0s 4ms/step - loss: 1373.1224 - mae: 33.5435 - val_loss: 1483.1707 - val_mae: 34.8946\n",
            "Epoch 9/100\n",
            "17/17 [==============================] - 0s 4ms/step - loss: 1418.3995 - mae: 33.7628 - val_loss: 1422.9617 - val_mae: 34.0912\n",
            "Epoch 10/100\n",
            "17/17 [==============================] - 0s 4ms/step - loss: 1306.5856 - mae: 32.4137 - val_loss: 1351.6448 - val_mae: 33.1077\n",
            "Epoch 11/100\n",
            "17/17 [==============================] - 0s 4ms/step - loss: 1189.5879 - mae: 30.5580 - val_loss: 1267.9510 - val_mae: 31.9089\n",
            "Epoch 12/100\n",
            "17/17 [==============================] - 0s 4ms/step - loss: 1208.6543 - mae: 30.9420 - val_loss: 1168.8346 - val_mae: 30.4306\n",
            "Epoch 13/100\n",
            "17/17 [==============================] - 0s 4ms/step - loss: 1073.2101 - mae: 28.9375 - val_loss: 1060.2250 - val_mae: 28.7272\n",
            "Epoch 14/100\n",
            "17/17 [==============================] - 0s 4ms/step - loss: 1031.7831 - mae: 28.0707 - val_loss: 939.0891 - val_mae: 26.7171\n",
            "Epoch 15/100\n",
            "17/17 [==============================] - 0s 4ms/step - loss: 860.6198 - mae: 25.1592 - val_loss: 813.3287 - val_mae: 24.4958\n",
            "Epoch 16/100\n",
            "17/17 [==============================] - 0s 5ms/step - loss: 732.5325 - mae: 22.8546 - val_loss: 684.3016 - val_mae: 22.0458\n",
            "Epoch 17/100\n",
            "17/17 [==============================] - 0s 4ms/step - loss: 610.5651 - mae: 20.2057 - val_loss: 566.2028 - val_mae: 19.5404\n",
            "Epoch 18/100\n",
            "17/17 [==============================] - 0s 4ms/step - loss: 521.8981 - mae: 18.5995 - val_loss: 466.2986 - val_mae: 17.2608\n",
            "Epoch 19/100\n",
            "17/17 [==============================] - 0s 4ms/step - loss: 389.9779 - mae: 15.6856 - val_loss: 392.8234 - val_mae: 15.6316\n",
            "Epoch 20/100\n",
            "17/17 [==============================] - 0s 4ms/step - loss: 367.7302 - mae: 15.0389 - val_loss: 340.0416 - val_mae: 14.4963\n",
            "Epoch 21/100\n",
            "17/17 [==============================] - 0s 4ms/step - loss: 287.4589 - mae: 13.4470 - val_loss: 310.3260 - val_mae: 13.8229\n",
            "Epoch 22/100\n",
            "17/17 [==============================] - 0s 4ms/step - loss: 269.4107 - mae: 12.9302 - val_loss: 290.9043 - val_mae: 13.4206\n",
            "Epoch 23/100\n",
            "17/17 [==============================] - 0s 4ms/step - loss: 233.7495 - mae: 12.2652 - val_loss: 277.4348 - val_mae: 13.1487\n",
            "Epoch 24/100\n",
            "17/17 [==============================] - 0s 4ms/step - loss: 227.6642 - mae: 12.0307 - val_loss: 265.8281 - val_mae: 12.9073\n",
            "Epoch 25/100\n",
            "17/17 [==============================] - 0s 4ms/step - loss: 227.5928 - mae: 12.0203 - val_loss: 255.1959 - val_mae: 12.6918\n",
            "Epoch 26/100\n",
            "17/17 [==============================] - 0s 4ms/step - loss: 219.8056 - mae: 11.5798 - val_loss: 246.8709 - val_mae: 12.5249\n",
            "Epoch 27/100\n",
            "17/17 [==============================] - 0s 4ms/step - loss: 213.6000 - mae: 11.5513 - val_loss: 240.3895 - val_mae: 12.3673\n",
            "Epoch 28/100\n",
            "17/17 [==============================] - 0s 4ms/step - loss: 192.3473 - mae: 11.2171 - val_loss: 233.9721 - val_mae: 12.2101\n",
            "Epoch 29/100\n",
            "17/17 [==============================] - 0s 4ms/step - loss: 193.8347 - mae: 11.3297 - val_loss: 228.2403 - val_mae: 12.0740\n",
            "Epoch 30/100\n",
            "17/17 [==============================] - 0s 4ms/step - loss: 182.7281 - mae: 10.8953 - val_loss: 222.8930 - val_mae: 11.9433\n",
            "Epoch 31/100\n",
            "17/17 [==============================] - 0s 4ms/step - loss: 202.0208 - mae: 11.4653 - val_loss: 217.8639 - val_mae: 11.8270\n",
            "Epoch 32/100\n",
            "17/17 [==============================] - 0s 4ms/step - loss: 179.3160 - mae: 10.7355 - val_loss: 213.5622 - val_mae: 11.7329\n",
            "Epoch 33/100\n",
            "17/17 [==============================] - 0s 4ms/step - loss: 190.1627 - mae: 11.1872 - val_loss: 209.8861 - val_mae: 11.6421\n",
            "Epoch 34/100\n",
            "17/17 [==============================] - 0s 4ms/step - loss: 188.0789 - mae: 11.1245 - val_loss: 207.0838 - val_mae: 11.5675\n",
            "Epoch 35/100\n",
            "17/17 [==============================] - 0s 4ms/step - loss: 184.4536 - mae: 10.9785 - val_loss: 203.7266 - val_mae: 11.4861\n",
            "Epoch 36/100\n",
            "17/17 [==============================] - 0s 4ms/step - loss: 153.1960 - mae: 9.8633 - val_loss: 200.8474 - val_mae: 11.4177\n",
            "Epoch 37/100\n",
            "17/17 [==============================] - 0s 4ms/step - loss: 159.2399 - mae: 10.1865 - val_loss: 197.9666 - val_mae: 11.3478\n",
            "Epoch 38/100\n",
            "17/17 [==============================] - 0s 4ms/step - loss: 173.6725 - mae: 10.7361 - val_loss: 194.8018 - val_mae: 11.2831\n",
            "Epoch 39/100\n",
            "17/17 [==============================] - 0s 4ms/step - loss: 151.4922 - mae: 9.9495 - val_loss: 191.9811 - val_mae: 11.2068\n",
            "Epoch 40/100\n",
            "17/17 [==============================] - 0s 4ms/step - loss: 165.6244 - mae: 10.5022 - val_loss: 189.1286 - val_mae: 11.1261\n",
            "Epoch 41/100\n",
            "17/17 [==============================] - 0s 4ms/step - loss: 159.6910 - mae: 10.2912 - val_loss: 186.5433 - val_mae: 11.0561\n",
            "Epoch 42/100\n",
            "17/17 [==============================] - 0s 4ms/step - loss: 155.3918 - mae: 10.1288 - val_loss: 184.8443 - val_mae: 11.0307\n",
            "Epoch 43/100\n",
            "17/17 [==============================] - 0s 4ms/step - loss: 164.1545 - mae: 10.4678 - val_loss: 182.4333 - val_mae: 10.9644\n",
            "Epoch 44/100\n",
            "17/17 [==============================] - 0s 4ms/step - loss: 156.9613 - mae: 10.2334 - val_loss: 180.0901 - val_mae: 10.8886\n",
            "Epoch 45/100\n",
            "17/17 [==============================] - 0s 4ms/step - loss: 163.1809 - mae: 10.4203 - val_loss: 178.0764 - val_mae: 10.8197\n",
            "Epoch 46/100\n",
            "17/17 [==============================] - 0s 4ms/step - loss: 166.1643 - mae: 10.4007 - val_loss: 176.2843 - val_mae: 10.7854\n",
            "Epoch 47/100\n",
            "17/17 [==============================] - 0s 4ms/step - loss: 153.6297 - mae: 10.1870 - val_loss: 174.3105 - val_mae: 10.6991\n",
            "Epoch 48/100\n",
            "17/17 [==============================] - 0s 4ms/step - loss: 145.2759 - mae: 9.7485 - val_loss: 172.1387 - val_mae: 10.6130\n",
            "Epoch 49/100\n",
            "17/17 [==============================] - 0s 4ms/step - loss: 158.9318 - mae: 10.2672 - val_loss: 170.2968 - val_mae: 10.5573\n",
            "Epoch 50/100\n",
            "17/17 [==============================] - 0s 4ms/step - loss: 152.9644 - mae: 10.1838 - val_loss: 168.7298 - val_mae: 10.5281\n",
            "Epoch 51/100\n",
            "17/17 [==============================] - 0s 4ms/step - loss: 147.8180 - mae: 9.8547 - val_loss: 167.1607 - val_mae: 10.4938\n",
            "Epoch 52/100\n",
            "17/17 [==============================] - 0s 4ms/step - loss: 134.9674 - mae: 9.6312 - val_loss: 166.1376 - val_mae: 10.4806\n",
            "Epoch 53/100\n",
            "17/17 [==============================] - 0s 4ms/step - loss: 134.9388 - mae: 9.3250 - val_loss: 164.1239 - val_mae: 10.4106\n",
            "Epoch 54/100\n",
            "17/17 [==============================] - 0s 4ms/step - loss: 139.6602 - mae: 9.5292 - val_loss: 162.7759 - val_mae: 10.3513\n",
            "Epoch 55/100\n",
            "17/17 [==============================] - 0s 4ms/step - loss: 145.5380 - mae: 10.0162 - val_loss: 161.4550 - val_mae: 10.3342\n",
            "Epoch 56/100\n",
            "17/17 [==============================] - 0s 4ms/step - loss: 134.4279 - mae: 9.4209 - val_loss: 160.0554 - val_mae: 10.2851\n",
            "Epoch 57/100\n",
            "17/17 [==============================] - 0s 4ms/step - loss: 133.3770 - mae: 9.3819 - val_loss: 158.4793 - val_mae: 10.2324\n",
            "Epoch 58/100\n",
            "17/17 [==============================] - 0s 4ms/step - loss: 139.3370 - mae: 9.6885 - val_loss: 157.3940 - val_mae: 10.1911\n",
            "Epoch 59/100\n",
            "17/17 [==============================] - 0s 4ms/step - loss: 140.9213 - mae: 9.7541 - val_loss: 156.2314 - val_mae: 10.1646\n",
            "Epoch 60/100\n",
            "17/17 [==============================] - 0s 4ms/step - loss: 137.4369 - mae: 9.5324 - val_loss: 155.7073 - val_mae: 10.1398\n",
            "Epoch 61/100\n",
            "17/17 [==============================] - 0s 4ms/step - loss: 136.2825 - mae: 9.5332 - val_loss: 155.8687 - val_mae: 10.1575\n",
            "Epoch 62/100\n",
            "17/17 [==============================] - 0s 5ms/step - loss: 133.7589 - mae: 9.4704 - val_loss: 156.5631 - val_mae: 10.1983\n",
            "Epoch 63/100\n",
            "17/17 [==============================] - 0s 4ms/step - loss: 132.8766 - mae: 9.4720 - val_loss: 154.6367 - val_mae: 10.1319\n",
            "Epoch 64/100\n",
            "17/17 [==============================] - 0s 4ms/step - loss: 134.0693 - mae: 9.4587 - val_loss: 153.3577 - val_mae: 10.0859\n",
            "Epoch 65/100\n",
            "17/17 [==============================] - 0s 4ms/step - loss: 129.3604 - mae: 9.3881 - val_loss: 152.0274 - val_mae: 10.0372\n",
            "Epoch 66/100\n",
            "17/17 [==============================] - 0s 4ms/step - loss: 136.7145 - mae: 9.6218 - val_loss: 151.2370 - val_mae: 10.0021\n",
            "Epoch 67/100\n",
            "17/17 [==============================] - 0s 4ms/step - loss: 124.2249 - mae: 8.9738 - val_loss: 149.9601 - val_mae: 9.9435\n",
            "Epoch 68/100\n",
            "17/17 [==============================] - 0s 4ms/step - loss: 144.9156 - mae: 9.8350 - val_loss: 149.1809 - val_mae: 9.9295\n",
            "Epoch 69/100\n",
            "17/17 [==============================] - 0s 4ms/step - loss: 141.7970 - mae: 9.6120 - val_loss: 148.7657 - val_mae: 9.9164\n",
            "Epoch 70/100\n",
            "17/17 [==============================] - 0s 4ms/step - loss: 122.7326 - mae: 9.0024 - val_loss: 148.4431 - val_mae: 9.9006\n",
            "Epoch 71/100\n",
            "17/17 [==============================] - 0s 4ms/step - loss: 132.3225 - mae: 9.3419 - val_loss: 147.8639 - val_mae: 9.8757\n",
            "Epoch 72/100\n",
            "17/17 [==============================] - 0s 4ms/step - loss: 131.2001 - mae: 9.3907 - val_loss: 146.7481 - val_mae: 9.8439\n",
            "Epoch 73/100\n",
            "17/17 [==============================] - 0s 4ms/step - loss: 132.1777 - mae: 9.2112 - val_loss: 146.3298 - val_mae: 9.8337\n",
            "Epoch 74/100\n",
            "17/17 [==============================] - 0s 4ms/step - loss: 120.4539 - mae: 8.8607 - val_loss: 146.1431 - val_mae: 9.8260\n",
            "Epoch 75/100\n",
            "17/17 [==============================] - 0s 4ms/step - loss: 138.3267 - mae: 9.7023 - val_loss: 145.5418 - val_mae: 9.8113\n",
            "Epoch 76/100\n",
            "17/17 [==============================] - 0s 4ms/step - loss: 117.0970 - mae: 8.7133 - val_loss: 144.2026 - val_mae: 9.7650\n",
            "Epoch 77/100\n",
            "17/17 [==============================] - 0s 4ms/step - loss: 117.5488 - mae: 8.7135 - val_loss: 143.0276 - val_mae: 9.7148\n",
            "Epoch 78/100\n",
            "17/17 [==============================] - 0s 4ms/step - loss: 123.6468 - mae: 9.1763 - val_loss: 142.1657 - val_mae: 9.6974\n",
            "Epoch 79/100\n",
            "17/17 [==============================] - 0s 4ms/step - loss: 125.4203 - mae: 9.1192 - val_loss: 142.0659 - val_mae: 9.7017\n",
            "Epoch 80/100\n",
            "17/17 [==============================] - 0s 4ms/step - loss: 125.2779 - mae: 9.2619 - val_loss: 141.2284 - val_mae: 9.6637\n",
            "Epoch 81/100\n",
            "17/17 [==============================] - 0s 4ms/step - loss: 118.2400 - mae: 8.9431 - val_loss: 140.3929 - val_mae: 9.6268\n",
            "Epoch 82/100\n",
            "17/17 [==============================] - 0s 4ms/step - loss: 122.0399 - mae: 8.9436 - val_loss: 139.9478 - val_mae: 9.6056\n",
            "Epoch 83/100\n",
            "17/17 [==============================] - 0s 4ms/step - loss: 117.8419 - mae: 9.0038 - val_loss: 139.1543 - val_mae: 9.5771\n",
            "Epoch 84/100\n",
            "17/17 [==============================] - 0s 4ms/step - loss: 123.0496 - mae: 9.0381 - val_loss: 139.5762 - val_mae: 9.5952\n",
            "Epoch 85/100\n",
            "17/17 [==============================] - 0s 4ms/step - loss: 125.6879 - mae: 9.2464 - val_loss: 138.4138 - val_mae: 9.5492\n",
            "Epoch 86/100\n",
            "17/17 [==============================] - 0s 4ms/step - loss: 128.7460 - mae: 9.3394 - val_loss: 137.7478 - val_mae: 9.5245\n",
            "Epoch 87/100\n",
            "17/17 [==============================] - 0s 4ms/step - loss: 126.8875 - mae: 9.2139 - val_loss: 136.9434 - val_mae: 9.4990\n",
            "Epoch 88/100\n",
            "17/17 [==============================] - 0s 4ms/step - loss: 120.3602 - mae: 8.9151 - val_loss: 135.9060 - val_mae: 9.4581\n",
            "Epoch 89/100\n",
            "17/17 [==============================] - 0s 4ms/step - loss: 120.3532 - mae: 8.9860 - val_loss: 135.2719 - val_mae: 9.4461\n",
            "Epoch 90/100\n",
            "17/17 [==============================] - 0s 4ms/step - loss: 121.4428 - mae: 9.0663 - val_loss: 134.6259 - val_mae: 9.4175\n",
            "Epoch 91/100\n",
            "17/17 [==============================] - 0s 4ms/step - loss: 125.5708 - mae: 9.2360 - val_loss: 134.1868 - val_mae: 9.3969\n",
            "Epoch 92/100\n",
            "17/17 [==============================] - 0s 4ms/step - loss: 118.0678 - mae: 8.6746 - val_loss: 133.4772 - val_mae: 9.3648\n",
            "Epoch 93/100\n",
            "17/17 [==============================] - 0s 4ms/step - loss: 118.9018 - mae: 8.8673 - val_loss: 132.9564 - val_mae: 9.3409\n",
            "Epoch 94/100\n",
            "17/17 [==============================] - 0s 4ms/step - loss: 120.3016 - mae: 9.0583 - val_loss: 133.2789 - val_mae: 9.3688\n",
            "Epoch 95/100\n",
            "17/17 [==============================] - 0s 4ms/step - loss: 126.8994 - mae: 9.0304 - val_loss: 132.7444 - val_mae: 9.3601\n",
            "Epoch 96/100\n",
            "17/17 [==============================] - 0s 4ms/step - loss: 104.8016 - mae: 8.4053 - val_loss: 131.6817 - val_mae: 9.3026\n",
            "Epoch 97/100\n",
            "17/17 [==============================] - 0s 4ms/step - loss: 111.0285 - mae: 8.6427 - val_loss: 131.3286 - val_mae: 9.2701\n",
            "Epoch 98/100\n",
            "17/17 [==============================] - 0s 4ms/step - loss: 116.5232 - mae: 8.7329 - val_loss: 131.0752 - val_mae: 9.2702\n",
            "Epoch 99/100\n",
            "17/17 [==============================] - 0s 4ms/step - loss: 109.3943 - mae: 8.5752 - val_loss: 130.8037 - val_mae: 9.2981\n",
            "Epoch 100/100\n",
            "17/17 [==============================] - 0s 4ms/step - loss: 110.5920 - mae: 8.6258 - val_loss: 130.0234 - val_mae: 9.2489\n"
          ],
          "name": "stdout"
        }
      ]
    },
    {
      "cell_type": "code",
      "metadata": {
        "colab": {
          "base_uri": "https://localhost:8080/"
        },
        "id": "C0t804DcvLsP",
        "outputId": "cefa2fab-776d-4b7a-e920-88a016ec06ab"
      },
      "source": [
        "predictions = model.predict(test_data)\n",
        "predictions.shape"
      ],
      "execution_count": 24,
      "outputs": [
        {
          "output_type": "execute_result",
          "data": {
            "text/plain": [
              "(309, 1)"
            ]
          },
          "metadata": {
            "tags": []
          },
          "execution_count": 24
        }
      ]
    },
    {
      "cell_type": "code",
      "metadata": {
        "colab": {
          "base_uri": "https://localhost:8080/",
          "height": 419
        },
        "id": "rbALI8VTvXLA",
        "outputId": "71a0c999-deee-4da9-eb41-463c680ae0d3"
      },
      "source": [
        "predictions = predictions.reshape(309)\n",
        "output = pd.DataFrame({'Actual': test_targets})\n",
        "output['Predicted'] = predictions\n",
        "output['Absolute Error'] = np.abs(output['Predicted'] - output['Actual'])\n",
        "output"
      ],
      "execution_count": 25,
      "outputs": [
        {
          "output_type": "execute_result",
          "data": {
            "text/html": [
              "<div>\n",
              "<style scoped>\n",
              "    .dataframe tbody tr th:only-of-type {\n",
              "        vertical-align: middle;\n",
              "    }\n",
              "\n",
              "    .dataframe tbody tr th {\n",
              "        vertical-align: top;\n",
              "    }\n",
              "\n",
              "    .dataframe thead th {\n",
              "        text-align: right;\n",
              "    }\n",
              "</style>\n",
              "<table border=\"1\" class=\"dataframe\">\n",
              "  <thead>\n",
              "    <tr style=\"text-align: right;\">\n",
              "      <th></th>\n",
              "      <th>Actual</th>\n",
              "      <th>Predicted</th>\n",
              "      <th>Absolute Error</th>\n",
              "    </tr>\n",
              "  </thead>\n",
              "  <tbody>\n",
              "    <tr>\n",
              "      <th>721</th>\n",
              "      <td>44.64</td>\n",
              "      <td>37.957825</td>\n",
              "      <td>6.682175</td>\n",
              "    </tr>\n",
              "    <tr>\n",
              "      <th>722</th>\n",
              "      <td>33.56</td>\n",
              "      <td>38.398220</td>\n",
              "      <td>4.838220</td>\n",
              "    </tr>\n",
              "    <tr>\n",
              "      <th>723</th>\n",
              "      <td>19.69</td>\n",
              "      <td>24.279390</td>\n",
              "      <td>4.589390</td>\n",
              "    </tr>\n",
              "    <tr>\n",
              "      <th>724</th>\n",
              "      <td>40.86</td>\n",
              "      <td>34.251045</td>\n",
              "      <td>6.608955</td>\n",
              "    </tr>\n",
              "    <tr>\n",
              "      <th>725</th>\n",
              "      <td>33.76</td>\n",
              "      <td>47.913082</td>\n",
              "      <td>14.153082</td>\n",
              "    </tr>\n",
              "    <tr>\n",
              "      <th>...</th>\n",
              "      <td>...</td>\n",
              "      <td>...</td>\n",
              "      <td>...</td>\n",
              "    </tr>\n",
              "    <tr>\n",
              "      <th>1025</th>\n",
              "      <td>45.37</td>\n",
              "      <td>49.579910</td>\n",
              "      <td>4.209910</td>\n",
              "    </tr>\n",
              "    <tr>\n",
              "      <th>1026</th>\n",
              "      <td>31.64</td>\n",
              "      <td>29.443262</td>\n",
              "      <td>2.196738</td>\n",
              "    </tr>\n",
              "    <tr>\n",
              "      <th>1027</th>\n",
              "      <td>64.30</td>\n",
              "      <td>56.160320</td>\n",
              "      <td>8.139680</td>\n",
              "    </tr>\n",
              "    <tr>\n",
              "      <th>1028</th>\n",
              "      <td>41.15</td>\n",
              "      <td>53.539825</td>\n",
              "      <td>12.389825</td>\n",
              "    </tr>\n",
              "    <tr>\n",
              "      <th>1029</th>\n",
              "      <td>25.57</td>\n",
              "      <td>19.508423</td>\n",
              "      <td>6.061577</td>\n",
              "    </tr>\n",
              "  </tbody>\n",
              "</table>\n",
              "<p>309 rows × 3 columns</p>\n",
              "</div>"
            ],
            "text/plain": [
              "      Actual  Predicted  Absolute Error\n",
              "721    44.64  37.957825        6.682175\n",
              "722    33.56  38.398220        4.838220\n",
              "723    19.69  24.279390        4.589390\n",
              "724    40.86  34.251045        6.608955\n",
              "725    33.76  47.913082       14.153082\n",
              "...      ...        ...             ...\n",
              "1025   45.37  49.579910        4.209910\n",
              "1026   31.64  29.443262        2.196738\n",
              "1027   64.30  56.160320        8.139680\n",
              "1028   41.15  53.539825       12.389825\n",
              "1029   25.57  19.508423        6.061577\n",
              "\n",
              "[309 rows x 3 columns]"
            ]
          },
          "metadata": {
            "tags": []
          },
          "execution_count": 25
        }
      ]
    }
  ]
}