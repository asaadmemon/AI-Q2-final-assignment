{
  "nbformat": 4,
  "nbformat_minor": 0,
  "metadata": {
    "colab": {
      "name": "AI-Q2-Credit Card Fraud Detection.ipynb",
      "provenance": [],
      "collapsed_sections": []
    },
    "kernelspec": {
      "name": "python3",
      "display_name": "Python 3"
    },
    "language_info": {
      "name": "python"
    }
  },
  "cells": [
    {
      "cell_type": "code",
      "metadata": {
        "id": "rd_ux88oOKe0"
      },
      "source": [
        "import pandas as pd\n",
        "import numpy as np\n",
        "import tensorflow as tf"
      ],
      "execution_count": 2,
      "outputs": []
    },
    {
      "cell_type": "code",
      "metadata": {
        "colab": {
          "resources": {
            "http://localhost:8080/nbextensions/google.colab/files.js": {
              "data": "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",
              "ok": true,
              "headers": [
                [
                  "content-type",
                  "application/javascript"
                ]
              ],
              "status": 200,
              "status_text": ""
            }
          },
          "base_uri": "https://localhost:8080/",
          "height": 72
        },
        "id": "m9aS_dloPZR4",
        "outputId": "6907f0a9-43bd-42f1-b98b-a678b1e073e9"
      },
      "source": [
        "from google.colab import files\n",
        "uploaded = files.upload()"
      ],
      "execution_count": 8,
      "outputs": [
        {
          "output_type": "display_data",
          "data": {
            "text/html": [
              "\n",
              "     <input type=\"file\" id=\"files-f1da73d1-880b-4123-860e-c80d489d63f9\" name=\"files[]\" multiple disabled\n",
              "        style=\"border:none\" />\n",
              "     <output id=\"result-f1da73d1-880b-4123-860e-c80d489d63f9\">\n",
              "      Upload widget is only available when the cell has been executed in the\n",
              "      current browser session. Please rerun this cell to enable.\n",
              "      </output>\n",
              "      <script src=\"/nbextensions/google.colab/files.js\"></script> "
            ],
            "text/plain": [
              "<IPython.core.display.HTML object>"
            ]
          },
          "metadata": {
            "tags": []
          }
        },
        {
          "output_type": "stream",
          "text": [
            "Saving creditcard.csv to creditcard (2).csv\n"
          ],
          "name": "stdout"
        }
      ]
    },
    {
      "cell_type": "code",
      "metadata": {
        "colab": {
          "base_uri": "https://localhost:8080/"
        },
        "id": "mVsWEs1zQgL7",
        "outputId": "99d467b3-51f3-4703-c039-fff00f80f893"
      },
      "source": [
        "credit_card_data = pd.read_csv('creditcard (2).csv')\n",
        "credit_card_data.head"
      ],
      "execution_count": 9,
      "outputs": [
        {
          "output_type": "execute_result",
          "data": {
            "text/plain": [
              "<bound method NDFrame.head of             Time         V1         V2  ...       V28  Amount  Class\n",
              "0            0.0  -1.359807  -0.072781  ... -0.021053  149.62      0\n",
              "1            0.0   1.191857   0.266151  ...  0.014724    2.69      0\n",
              "2            1.0  -1.358354  -1.340163  ... -0.059752  378.66      0\n",
              "3            1.0  -0.966272  -0.185226  ...  0.061458  123.50      0\n",
              "4            2.0  -1.158233   0.877737  ...  0.215153   69.99      0\n",
              "...          ...        ...        ...  ...       ...     ...    ...\n",
              "284802  172786.0 -11.881118  10.071785  ...  0.823731    0.77      0\n",
              "284803  172787.0  -0.732789  -0.055080  ... -0.053527   24.79      0\n",
              "284804  172788.0   1.919565  -0.301254  ... -0.026561   67.88      0\n",
              "284805  172788.0  -0.240440   0.530483  ...  0.104533   10.00      0\n",
              "284806  172792.0  -0.533413  -0.189733  ...  0.013649  217.00      0\n",
              "\n",
              "[284807 rows x 31 columns]>"
            ]
          },
          "metadata": {
            "tags": []
          },
          "execution_count": 9
        }
      ]
    },
    {
      "cell_type": "code",
      "metadata": {
        "colab": {
          "base_uri": "https://localhost:8080/"
        },
        "id": "hV6Fp429cxGJ",
        "outputId": "776968d2-fdb7-4bec-ddd9-502925f12619"
      },
      "source": [
        "credit_card_data.isnull().sum()"
      ],
      "execution_count": 14,
      "outputs": [
        {
          "output_type": "execute_result",
          "data": {
            "text/plain": [
              "Time      0\n",
              "V1        0\n",
              "V2        0\n",
              "V3        0\n",
              "V4        0\n",
              "V5        0\n",
              "V6        0\n",
              "V7        0\n",
              "V8        0\n",
              "V9        0\n",
              "V10       0\n",
              "V11       0\n",
              "V12       0\n",
              "V13       0\n",
              "V14       0\n",
              "V15       0\n",
              "V16       0\n",
              "V17       0\n",
              "V18       0\n",
              "V19       0\n",
              "V20       0\n",
              "V21       0\n",
              "V22       0\n",
              "V23       0\n",
              "V24       0\n",
              "V25       0\n",
              "V26       0\n",
              "V27       0\n",
              "V28       0\n",
              "Amount    0\n",
              "Class     0\n",
              "dtype: int64"
            ]
          },
          "metadata": {
            "tags": []
          },
          "execution_count": 14
        }
      ]
    },
    {
      "cell_type": "code",
      "metadata": {
        "colab": {
          "base_uri": "https://localhost:8080/"
        },
        "id": "2Nq0a01XddNv",
        "outputId": "f7dceba9-98dc-4fb3-b2ec-454f0d5eac8b"
      },
      "source": [
        "data = credit_card_data.iloc[:,:-1]\n",
        "targets = credit_card_data.iloc[:,-1]\n",
        "\n",
        "print(data.shape)\n",
        "print(targets.shape)"
      ],
      "execution_count": 15,
      "outputs": [
        {
          "output_type": "stream",
          "text": [
            "(284807, 30)\n",
            "(284807,)\n"
          ],
          "name": "stdout"
        }
      ]
    },
    {
      "cell_type": "code",
      "metadata": {
        "id": "awjRpWNQdvil"
      },
      "source": [
        "from sklearn.model_selection import train_test_split"
      ],
      "execution_count": 16,
      "outputs": []
    },
    {
      "cell_type": "code",
      "metadata": {
        "id": "c9Yfmk6TeT8H"
      },
      "source": [
        "train_data, test_data, train_targets, test_targets = train_test_split(data, targets, test_size=.3)"
      ],
      "execution_count": 17,
      "outputs": []
    },
    {
      "cell_type": "code",
      "metadata": {
        "id": "VLJqe2JSeeZs"
      },
      "source": [
        "train_data, validation_data, train_targets, validation_targets = train_test_split(train_data, train_targets, test_size=.2)"
      ],
      "execution_count": 18,
      "outputs": []
    },
    {
      "cell_type": "code",
      "metadata": {
        "id": "1ca-CPOHevt4"
      },
      "source": [
        "mean = np.mean(train_data)\n",
        "std = np.std(train_data)\n",
        "\n",
        "train_data -= mean\n",
        "train_data /= std\n",
        "\n",
        "validation_data -= mean\n",
        "validation_data /= std\n",
        "\n",
        "test_data -= mean\n",
        "test_data /= std"
      ],
      "execution_count": 19,
      "outputs": []
    },
    {
      "cell_type": "code",
      "metadata": {
        "id": "z0T8myz8fm41"
      },
      "source": [
        "from keras import models, layers"
      ],
      "execution_count": 21,
      "outputs": []
    },
    {
      "cell_type": "code",
      "metadata": {
        "id": "16mnP2-agAkh"
      },
      "source": [
        "model = models.Sequential()\n",
        "model.add(layers.Dense(10, input_shape=(train_data.shape[1],), activation='relu'))\n",
        "model.add(layers.Dense(8, activation='relu'))\n",
        "model.add(layers.Dense(6, activation='relu'))\n",
        "model.add(layers.Dense(1, activation='sigmoid'))"
      ],
      "execution_count": 22,
      "outputs": []
    },
    {
      "cell_type": "code",
      "metadata": {
        "id": "UlQFnhgrhSF5"
      },
      "source": [
        "model.compile(optimizer='rmsprop', loss='binary_crossentropy', metrics=['accuracy'])"
      ],
      "execution_count": 23,
      "outputs": []
    },
    {
      "cell_type": "code",
      "metadata": {
        "colab": {
          "base_uri": "https://localhost:8080/"
        },
        "id": "LWp4ZTFthXBr",
        "outputId": "e68fb74d-b528-4146-a52a-a22c2911951d"
      },
      "source": [
        "history = model.fit(train_data, train_targets, epochs=100, validation_data=(validation_data, validation_targets))"
      ],
      "execution_count": 24,
      "outputs": [
        {
          "output_type": "stream",
          "text": [
            "Epoch 1/100\n",
            "4985/4985 [==============================] - 8s 1ms/step - loss: 0.0478 - accuracy: 0.9987 - val_loss: 0.0049 - val_accuracy: 0.9993\n",
            "Epoch 2/100\n",
            "4985/4985 [==============================] - 7s 1ms/step - loss: 0.0078 - accuracy: 0.9992 - val_loss: 0.0056 - val_accuracy: 0.9994\n",
            "Epoch 3/100\n",
            "4985/4985 [==============================] - 7s 1ms/step - loss: 0.0065 - accuracy: 0.9994 - val_loss: 0.0065 - val_accuracy: 0.9994\n",
            "Epoch 4/100\n",
            "4985/4985 [==============================] - 7s 1ms/step - loss: 0.0059 - accuracy: 0.9994 - val_loss: 0.0052 - val_accuracy: 0.9994\n",
            "Epoch 5/100\n",
            "4985/4985 [==============================] - 7s 1ms/step - loss: 0.0063 - accuracy: 0.9993 - val_loss: 0.0040 - val_accuracy: 0.9994\n",
            "Epoch 6/100\n",
            "4985/4985 [==============================] - 7s 1ms/step - loss: 0.0065 - accuracy: 0.9994 - val_loss: 0.0052 - val_accuracy: 0.9994\n",
            "Epoch 7/100\n",
            "4985/4985 [==============================] - 7s 1ms/step - loss: 0.0052 - accuracy: 0.9995 - val_loss: 0.0043 - val_accuracy: 0.9994\n",
            "Epoch 8/100\n",
            "4985/4985 [==============================] - 7s 1ms/step - loss: 0.0056 - accuracy: 0.9994 - val_loss: 0.0055 - val_accuracy: 0.9994\n",
            "Epoch 9/100\n",
            "4985/4985 [==============================] - 7s 1ms/step - loss: 0.0072 - accuracy: 0.9993 - val_loss: 0.0053 - val_accuracy: 0.9994\n",
            "Epoch 10/100\n",
            "4985/4985 [==============================] - 7s 1ms/step - loss: 0.0068 - accuracy: 0.9993 - val_loss: 0.0041 - val_accuracy: 0.9994\n",
            "Epoch 11/100\n",
            "4985/4985 [==============================] - 7s 1ms/step - loss: 0.0058 - accuracy: 0.9993 - val_loss: 0.0054 - val_accuracy: 0.9994\n",
            "Epoch 12/100\n",
            "4985/4985 [==============================] - 7s 1ms/step - loss: 0.0059 - accuracy: 0.9994 - val_loss: 0.0057 - val_accuracy: 0.9994\n",
            "Epoch 13/100\n",
            "4985/4985 [==============================] - 7s 1ms/step - loss: 0.0057 - accuracy: 0.9994 - val_loss: 0.0051 - val_accuracy: 0.9995\n",
            "Epoch 14/100\n",
            "4985/4985 [==============================] - 7s 1ms/step - loss: 0.0061 - accuracy: 0.9994 - val_loss: 0.0043 - val_accuracy: 0.9994\n",
            "Epoch 15/100\n",
            "4985/4985 [==============================] - 7s 1ms/step - loss: 0.0054 - accuracy: 0.9994 - val_loss: 0.0042 - val_accuracy: 0.9994\n",
            "Epoch 16/100\n",
            "4985/4985 [==============================] - 7s 1ms/step - loss: 0.0056 - accuracy: 0.9994 - val_loss: 0.0053 - val_accuracy: 0.9994\n",
            "Epoch 17/100\n",
            "4985/4985 [==============================] - 7s 1ms/step - loss: 0.0053 - accuracy: 0.9994 - val_loss: 0.0039 - val_accuracy: 0.9994\n",
            "Epoch 18/100\n",
            "4985/4985 [==============================] - 7s 1ms/step - loss: 0.0046 - accuracy: 0.9995 - val_loss: 0.0049 - val_accuracy: 0.9994\n",
            "Epoch 19/100\n",
            "4985/4985 [==============================] - 7s 1ms/step - loss: 0.0063 - accuracy: 0.9993 - val_loss: 0.0042 - val_accuracy: 0.9994\n",
            "Epoch 20/100\n",
            "4985/4985 [==============================] - 7s 1ms/step - loss: 0.0058 - accuracy: 0.9993 - val_loss: 0.0049 - val_accuracy: 0.9994\n",
            "Epoch 21/100\n",
            "4985/4985 [==============================] - 7s 1ms/step - loss: 0.0053 - accuracy: 0.9994 - val_loss: 0.0056 - val_accuracy: 0.9994\n",
            "Epoch 22/100\n",
            "4985/4985 [==============================] - 7s 1ms/step - loss: 0.0058 - accuracy: 0.9995 - val_loss: 0.0045 - val_accuracy: 0.9994\n",
            "Epoch 23/100\n",
            "4985/4985 [==============================] - 7s 1ms/step - loss: 0.0051 - accuracy: 0.9994 - val_loss: 0.0044 - val_accuracy: 0.9994\n",
            "Epoch 24/100\n",
            "4985/4985 [==============================] - 7s 1ms/step - loss: 0.0049 - accuracy: 0.9995 - val_loss: 0.0040 - val_accuracy: 0.9994\n",
            "Epoch 25/100\n",
            "4985/4985 [==============================] - 7s 1ms/step - loss: 0.0054 - accuracy: 0.9994 - val_loss: 0.0055 - val_accuracy: 0.9994\n",
            "Epoch 26/100\n",
            "4985/4985 [==============================] - 7s 1ms/step - loss: 0.0057 - accuracy: 0.9994 - val_loss: 0.0039 - val_accuracy: 0.9994\n",
            "Epoch 27/100\n",
            "4985/4985 [==============================] - 7s 1ms/step - loss: 0.0054 - accuracy: 0.9994 - val_loss: 0.0040 - val_accuracy: 0.9994\n",
            "Epoch 28/100\n",
            "4985/4985 [==============================] - 7s 1ms/step - loss: 0.0051 - accuracy: 0.9994 - val_loss: 0.0039 - val_accuracy: 0.9994\n",
            "Epoch 29/100\n",
            "4985/4985 [==============================] - 7s 1ms/step - loss: 0.0053 - accuracy: 0.9994 - val_loss: 0.0045 - val_accuracy: 0.9994\n",
            "Epoch 30/100\n",
            "4985/4985 [==============================] - 7s 1ms/step - loss: 0.0055 - accuracy: 0.9994 - val_loss: 0.0089 - val_accuracy: 0.9994\n",
            "Epoch 31/100\n",
            "4985/4985 [==============================] - 7s 1ms/step - loss: 0.0055 - accuracy: 0.9995 - val_loss: 0.0057 - val_accuracy: 0.9994\n",
            "Epoch 32/100\n",
            "4985/4985 [==============================] - 7s 1ms/step - loss: 0.0061 - accuracy: 0.9995 - val_loss: 0.0052 - val_accuracy: 0.9994\n",
            "Epoch 33/100\n",
            "4985/4985 [==============================] - 7s 1ms/step - loss: 0.0050 - accuracy: 0.9993 - val_loss: 0.0053 - val_accuracy: 0.9994\n",
            "Epoch 34/100\n",
            "4985/4985 [==============================] - 7s 1ms/step - loss: 0.0054 - accuracy: 0.9994 - val_loss: 0.0047 - val_accuracy: 0.9994\n",
            "Epoch 35/100\n",
            "4985/4985 [==============================] - 7s 1ms/step - loss: 0.0053 - accuracy: 0.9994 - val_loss: 0.0079 - val_accuracy: 0.9994\n",
            "Epoch 36/100\n",
            "4985/4985 [==============================] - 7s 1ms/step - loss: 0.0057 - accuracy: 0.9993 - val_loss: 0.0046 - val_accuracy: 0.9994\n",
            "Epoch 37/100\n",
            "4985/4985 [==============================] - 7s 1ms/step - loss: 0.0057 - accuracy: 0.9993 - val_loss: 0.0040 - val_accuracy: 0.9994\n",
            "Epoch 38/100\n",
            "4985/4985 [==============================] - 7s 1ms/step - loss: 0.0049 - accuracy: 0.9995 - val_loss: 0.0051 - val_accuracy: 0.9994\n",
            "Epoch 39/100\n",
            "4985/4985 [==============================] - 7s 1ms/step - loss: 0.0047 - accuracy: 0.9994 - val_loss: 0.0038 - val_accuracy: 0.9994\n",
            "Epoch 40/100\n",
            "4985/4985 [==============================] - 7s 1ms/step - loss: 0.0062 - accuracy: 0.9993 - val_loss: 0.0073 - val_accuracy: 0.9994\n",
            "Epoch 41/100\n",
            "4985/4985 [==============================] - 7s 1ms/step - loss: 0.0064 - accuracy: 0.9994 - val_loss: 0.0047 - val_accuracy: 0.9994\n",
            "Epoch 42/100\n",
            "4985/4985 [==============================] - 7s 1ms/step - loss: 0.0054 - accuracy: 0.9994 - val_loss: 0.0067 - val_accuracy: 0.9994\n",
            "Epoch 43/100\n",
            "4985/4985 [==============================] - 7s 1ms/step - loss: 0.0049 - accuracy: 0.9994 - val_loss: 0.0044 - val_accuracy: 0.9994\n",
            "Epoch 44/100\n",
            "4985/4985 [==============================] - 7s 1ms/step - loss: 0.0049 - accuracy: 0.9994 - val_loss: 0.0049 - val_accuracy: 0.9996\n",
            "Epoch 45/100\n",
            "4985/4985 [==============================] - 7s 1ms/step - loss: 0.0046 - accuracy: 0.9994 - val_loss: 0.0048 - val_accuracy: 0.9994\n",
            "Epoch 46/100\n",
            "4985/4985 [==============================] - 7s 1ms/step - loss: 0.0055 - accuracy: 0.9993 - val_loss: 0.0061 - val_accuracy: 0.9994\n",
            "Epoch 47/100\n",
            "4985/4985 [==============================] - 7s 1ms/step - loss: 0.0046 - accuracy: 0.9994 - val_loss: 0.0073 - val_accuracy: 0.9994\n",
            "Epoch 48/100\n",
            "4985/4985 [==============================] - 7s 1ms/step - loss: 0.0060 - accuracy: 0.9994 - val_loss: 0.0061 - val_accuracy: 0.9994\n",
            "Epoch 49/100\n",
            "4985/4985 [==============================] - 7s 1ms/step - loss: 0.0051 - accuracy: 0.9994 - val_loss: 0.0054 - val_accuracy: 0.9994\n",
            "Epoch 50/100\n",
            "4985/4985 [==============================] - 7s 1ms/step - loss: 0.0061 - accuracy: 0.9993 - val_loss: 0.0057 - val_accuracy: 0.9994\n",
            "Epoch 51/100\n",
            "4985/4985 [==============================] - 7s 1ms/step - loss: 0.0047 - accuracy: 0.9995 - val_loss: 0.0053 - val_accuracy: 0.9993\n",
            "Epoch 52/100\n",
            "4985/4985 [==============================] - 7s 1ms/step - loss: 0.0057 - accuracy: 0.9993 - val_loss: 0.0060 - val_accuracy: 0.9994\n",
            "Epoch 53/100\n",
            "4985/4985 [==============================] - 7s 1ms/step - loss: 0.0046 - accuracy: 0.9995 - val_loss: 0.0069 - val_accuracy: 0.9994\n",
            "Epoch 54/100\n",
            "4985/4985 [==============================] - 7s 1ms/step - loss: 0.0051 - accuracy: 0.9994 - val_loss: 0.0068 - val_accuracy: 0.9994\n",
            "Epoch 55/100\n",
            "4985/4985 [==============================] - 7s 1ms/step - loss: 0.0062 - accuracy: 0.9993 - val_loss: 0.0070 - val_accuracy: 0.9994\n",
            "Epoch 56/100\n",
            "4985/4985 [==============================] - 7s 1ms/step - loss: 0.0054 - accuracy: 0.9994 - val_loss: 0.0057 - val_accuracy: 0.9994\n",
            "Epoch 57/100\n",
            "4985/4985 [==============================] - 7s 1ms/step - loss: 0.0066 - accuracy: 0.9992 - val_loss: 0.0072 - val_accuracy: 0.9994\n",
            "Epoch 58/100\n",
            "4985/4985 [==============================] - 7s 1ms/step - loss: 0.0055 - accuracy: 0.9995 - val_loss: 0.0063 - val_accuracy: 0.9994\n",
            "Epoch 59/100\n",
            "4985/4985 [==============================] - 7s 1ms/step - loss: 0.0060 - accuracy: 0.9994 - val_loss: 0.0052 - val_accuracy: 0.9994\n",
            "Epoch 60/100\n",
            "4985/4985 [==============================] - 7s 1ms/step - loss: 0.0059 - accuracy: 0.9993 - val_loss: 0.0064 - val_accuracy: 0.9994\n",
            "Epoch 61/100\n",
            "4985/4985 [==============================] - 7s 1ms/step - loss: 0.0049 - accuracy: 0.9994 - val_loss: 0.0079 - val_accuracy: 0.9994\n",
            "Epoch 62/100\n",
            "4985/4985 [==============================] - 7s 1ms/step - loss: 0.0052 - accuracy: 0.9995 - val_loss: 0.0060 - val_accuracy: 0.9994\n",
            "Epoch 63/100\n",
            "4985/4985 [==============================] - 7s 1ms/step - loss: 0.0058 - accuracy: 0.9993 - val_loss: 0.0074 - val_accuracy: 0.9994\n",
            "Epoch 64/100\n",
            "4985/4985 [==============================] - 7s 1ms/step - loss: 0.0057 - accuracy: 0.9993 - val_loss: 0.0056 - val_accuracy: 0.9994\n",
            "Epoch 65/100\n",
            "4985/4985 [==============================] - 7s 1ms/step - loss: 0.0061 - accuracy: 0.9993 - val_loss: 0.0083 - val_accuracy: 0.9994\n",
            "Epoch 66/100\n",
            "4985/4985 [==============================] - 7s 1ms/step - loss: 0.0055 - accuracy: 0.9994 - val_loss: 0.0060 - val_accuracy: 0.9994\n",
            "Epoch 67/100\n",
            "4985/4985 [==============================] - 7s 1ms/step - loss: 0.0066 - accuracy: 0.9991 - val_loss: 0.0054 - val_accuracy: 0.9995\n",
            "Epoch 68/100\n",
            "4985/4985 [==============================] - 7s 1ms/step - loss: 0.0058 - accuracy: 0.9994 - val_loss: 0.0061 - val_accuracy: 0.9994\n",
            "Epoch 69/100\n",
            "4985/4985 [==============================] - 7s 1ms/step - loss: 0.0054 - accuracy: 0.9994 - val_loss: 0.0056 - val_accuracy: 0.9994\n",
            "Epoch 70/100\n",
            "4985/4985 [==============================] - 7s 1ms/step - loss: 0.0053 - accuracy: 0.9994 - val_loss: 0.0076 - val_accuracy: 0.9994\n",
            "Epoch 71/100\n",
            "4985/4985 [==============================] - 7s 1ms/step - loss: 0.0062 - accuracy: 0.9993 - val_loss: 0.0061 - val_accuracy: 0.9994\n",
            "Epoch 72/100\n",
            "4985/4985 [==============================] - 7s 1ms/step - loss: 0.0061 - accuracy: 0.9993 - val_loss: 0.0135 - val_accuracy: 0.9994\n",
            "Epoch 73/100\n",
            "4985/4985 [==============================] - 7s 1ms/step - loss: 0.0077 - accuracy: 0.9994 - val_loss: 0.0080 - val_accuracy: 0.9994\n",
            "Epoch 74/100\n",
            "4985/4985 [==============================] - 7s 1ms/step - loss: 0.0071 - accuracy: 0.9992 - val_loss: 0.0072 - val_accuracy: 0.9994\n",
            "Epoch 75/100\n",
            "4985/4985 [==============================] - 7s 1ms/step - loss: 0.0065 - accuracy: 0.9992 - val_loss: 0.0074 - val_accuracy: 0.9993\n",
            "Epoch 76/100\n",
            "4985/4985 [==============================] - 7s 1ms/step - loss: 0.0075 - accuracy: 0.9993 - val_loss: 0.0075 - val_accuracy: 0.9994\n",
            "Epoch 77/100\n",
            "4985/4985 [==============================] - 7s 1ms/step - loss: 0.0062 - accuracy: 0.9994 - val_loss: 0.0070 - val_accuracy: 0.9994\n",
            "Epoch 78/100\n",
            "4985/4985 [==============================] - 7s 1ms/step - loss: 0.0049 - accuracy: 0.9994 - val_loss: 0.0072 - val_accuracy: 0.9994\n",
            "Epoch 79/100\n",
            "4985/4985 [==============================] - 7s 1ms/step - loss: 0.0058 - accuracy: 0.9994 - val_loss: 0.0102 - val_accuracy: 0.9994\n",
            "Epoch 80/100\n",
            "4985/4985 [==============================] - 7s 1ms/step - loss: 0.0069 - accuracy: 0.9994 - val_loss: 0.0090 - val_accuracy: 0.9995\n",
            "Epoch 81/100\n",
            "4985/4985 [==============================] - 7s 1ms/step - loss: 0.0058 - accuracy: 0.9995 - val_loss: 0.0092 - val_accuracy: 0.9995\n",
            "Epoch 82/100\n",
            "4985/4985 [==============================] - 7s 1ms/step - loss: 0.0073 - accuracy: 0.9994 - val_loss: 0.0074 - val_accuracy: 0.9994\n",
            "Epoch 83/100\n",
            "4985/4985 [==============================] - 7s 1ms/step - loss: 0.0076 - accuracy: 0.9993 - val_loss: 0.0098 - val_accuracy: 0.9994\n",
            "Epoch 84/100\n",
            "4985/4985 [==============================] - 7s 1ms/step - loss: 0.0070 - accuracy: 0.9994 - val_loss: 0.0092 - val_accuracy: 0.9994\n",
            "Epoch 85/100\n",
            "4985/4985 [==============================] - 7s 1ms/step - loss: 0.0070 - accuracy: 0.9993 - val_loss: 0.0104 - val_accuracy: 0.9995\n",
            "Epoch 86/100\n",
            "4985/4985 [==============================] - 7s 1ms/step - loss: 0.0068 - accuracy: 0.9995 - val_loss: 0.0075 - val_accuracy: 0.9994\n",
            "Epoch 87/100\n",
            "4985/4985 [==============================] - 7s 1ms/step - loss: 0.0072 - accuracy: 0.9994 - val_loss: 0.0097 - val_accuracy: 0.9995\n",
            "Epoch 88/100\n",
            "4985/4985 [==============================] - 7s 1ms/step - loss: 0.0056 - accuracy: 0.9995 - val_loss: 0.0119 - val_accuracy: 0.9995\n",
            "Epoch 89/100\n",
            "4985/4985 [==============================] - 7s 1ms/step - loss: 0.0078 - accuracy: 0.9992 - val_loss: 0.0096 - val_accuracy: 0.9995\n",
            "Epoch 90/100\n",
            "4985/4985 [==============================] - 7s 1ms/step - loss: 0.0074 - accuracy: 0.9994 - val_loss: 0.0111 - val_accuracy: 0.9995\n",
            "Epoch 91/100\n",
            "4985/4985 [==============================] - 7s 1ms/step - loss: 0.0066 - accuracy: 0.9994 - val_loss: 0.0084 - val_accuracy: 0.9995\n",
            "Epoch 92/100\n",
            "4985/4985 [==============================] - 7s 1ms/step - loss: 0.0066 - accuracy: 0.9994 - val_loss: 0.0087 - val_accuracy: 0.9995\n",
            "Epoch 93/100\n",
            "4985/4985 [==============================] - 7s 1ms/step - loss: 0.0063 - accuracy: 0.9994 - val_loss: 0.0110 - val_accuracy: 0.9995\n",
            "Epoch 94/100\n",
            "4985/4985 [==============================] - 8s 2ms/step - loss: 0.0062 - accuracy: 0.9993 - val_loss: 0.0085 - val_accuracy: 0.9995\n",
            "Epoch 95/100\n",
            "4985/4985 [==============================] - 8s 2ms/step - loss: 0.0056 - accuracy: 0.9994 - val_loss: 0.0108 - val_accuracy: 0.9995\n",
            "Epoch 96/100\n",
            "4985/4985 [==============================] - 7s 1ms/step - loss: 0.0070 - accuracy: 0.9993 - val_loss: 0.0102 - val_accuracy: 0.9994\n",
            "Epoch 97/100\n",
            "4985/4985 [==============================] - 7s 1ms/step - loss: 0.0059 - accuracy: 0.9993 - val_loss: 0.0086 - val_accuracy: 0.9995\n",
            "Epoch 98/100\n",
            "4985/4985 [==============================] - 7s 1ms/step - loss: 0.0066 - accuracy: 0.9994 - val_loss: 0.0101 - val_accuracy: 0.9995\n",
            "Epoch 99/100\n",
            "4985/4985 [==============================] - 7s 1ms/step - loss: 0.0054 - accuracy: 0.9994 - val_loss: 0.0090 - val_accuracy: 0.9995\n",
            "Epoch 100/100\n",
            "4985/4985 [==============================] - 7s 1ms/step - loss: 0.0057 - accuracy: 0.9994 - val_loss: 0.0087 - val_accuracy: 0.9993\n"
          ],
          "name": "stdout"
        }
      ]
    },
    {
      "cell_type": "code",
      "metadata": {
        "colab": {
          "base_uri": "https://localhost:8080/"
        },
        "id": "iAfJYujclGjc",
        "outputId": "f6e708fc-5e18-4de7-d335-58bd54316e69"
      },
      "source": [
        "model.evaluate(test_data, test_targets)"
      ],
      "execution_count": 39,
      "outputs": [
        {
          "output_type": "stream",
          "text": [
            "2671/2671 [==============================] - 2s 918us/step - loss: 0.0076 - accuracy: 0.9993\n"
          ],
          "name": "stdout"
        },
        {
          "output_type": "execute_result",
          "data": {
            "text/plain": [
              "[0.007646390702575445, 0.9993329048156738]"
            ]
          },
          "metadata": {
            "tags": []
          },
          "execution_count": 39
        }
      ]
    },
    {
      "cell_type": "code",
      "metadata": {
        "colab": {
          "base_uri": "https://localhost:8080/"
        },
        "id": "LkokEvEMlWX-",
        "outputId": "54864e89-6c6f-436c-b155-101fc62f4012"
      },
      "source": [
        "prediction = model.predict(test_data)\n",
        "prediction.shape"
      ],
      "execution_count": 40,
      "outputs": [
        {
          "output_type": "execute_result",
          "data": {
            "text/plain": [
              "(85443, 1)"
            ]
          },
          "metadata": {
            "tags": []
          },
          "execution_count": 40
        }
      ]
    },
    {
      "cell_type": "code",
      "metadata": {
        "id": "k5D9VT-4nTTF"
      },
      "source": [
        "prediction = prediction.reshape(85443)"
      ],
      "execution_count": 41,
      "outputs": []
    },
    {
      "cell_type": "code",
      "metadata": {
        "colab": {
          "base_uri": "https://localhost:8080/",
          "height": 204
        },
        "id": "zTa4_XdTm_Dr",
        "outputId": "bff291af-ed2d-405d-9e39-f2fe1ead97f2"
      },
      "source": [
        "output_df = pd.DataFrame({'Actual': test_targets, 'Prediction': np.round(prediction)})\n",
        "output_df.head()"
      ],
      "execution_count": 43,
      "outputs": [
        {
          "output_type": "execute_result",
          "data": {
            "text/html": [
              "<div>\n",
              "<style scoped>\n",
              "    .dataframe tbody tr th:only-of-type {\n",
              "        vertical-align: middle;\n",
              "    }\n",
              "\n",
              "    .dataframe tbody tr th {\n",
              "        vertical-align: top;\n",
              "    }\n",
              "\n",
              "    .dataframe thead th {\n",
              "        text-align: right;\n",
              "    }\n",
              "</style>\n",
              "<table border=\"1\" class=\"dataframe\">\n",
              "  <thead>\n",
              "    <tr style=\"text-align: right;\">\n",
              "      <th></th>\n",
              "      <th>Actual</th>\n",
              "      <th>Prediction</th>\n",
              "    </tr>\n",
              "  </thead>\n",
              "  <tbody>\n",
              "    <tr>\n",
              "      <th>90032</th>\n",
              "      <td>0</td>\n",
              "      <td>0.0</td>\n",
              "    </tr>\n",
              "    <tr>\n",
              "      <th>263193</th>\n",
              "      <td>0</td>\n",
              "      <td>0.0</td>\n",
              "    </tr>\n",
              "    <tr>\n",
              "      <th>203267</th>\n",
              "      <td>0</td>\n",
              "      <td>0.0</td>\n",
              "    </tr>\n",
              "    <tr>\n",
              "      <th>257501</th>\n",
              "      <td>0</td>\n",
              "      <td>0.0</td>\n",
              "    </tr>\n",
              "    <tr>\n",
              "      <th>62091</th>\n",
              "      <td>0</td>\n",
              "      <td>0.0</td>\n",
              "    </tr>\n",
              "  </tbody>\n",
              "</table>\n",
              "</div>"
            ],
            "text/plain": [
              "        Actual  Prediction\n",
              "90032        0         0.0\n",
              "263193       0         0.0\n",
              "203267       0         0.0\n",
              "257501       0         0.0\n",
              "62091        0         0.0"
            ]
          },
          "metadata": {
            "tags": []
          },
          "execution_count": 43
        }
      ]
    },
    {
      "cell_type": "code",
      "metadata": {
        "colab": {
          "base_uri": "https://localhost:8080/"
        },
        "id": "bSTAoYNUqaI-",
        "outputId": "23a7f968-46e0-40c6-cdb0-62c537ec1403"
      },
      "source": [
        "output_df.shape"
      ],
      "execution_count": 45,
      "outputs": [
        {
          "output_type": "execute_result",
          "data": {
            "text/plain": [
              "(85443, 2)"
            ]
          },
          "metadata": {
            "tags": []
          },
          "execution_count": 45
        }
      ]
    },
    {
      "cell_type": "code",
      "metadata": {
        "colab": {
          "base_uri": "https://localhost:8080/"
        },
        "id": "RS6UqSYDqbuB",
        "outputId": "d2758b81-901f-48ea-d23b-a4332d9a01aa"
      },
      "source": [
        "filter = (output_df.loc[:, 'Actual'] == output_df.loc[:, 'Prediction'])\n",
        "\n",
        "output_df[filter].shape"
      ],
      "execution_count": 47,
      "outputs": [
        {
          "output_type": "execute_result",
          "data": {
            "text/plain": [
              "(85386, 2)"
            ]
          },
          "metadata": {
            "tags": []
          },
          "execution_count": 47
        }
      ]
    },
    {
      "cell_type": "code",
      "metadata": {
        "colab": {
          "base_uri": "https://localhost:8080/"
        },
        "id": "eBkTqh6nqzJt",
        "outputId": "cfbab2d1-0105-4a76-c580-4bd964346b97"
      },
      "source": [
        "print(f'Accuracy is {(output_df[filter].shape[0]/output_df.shape[0])*100}%')"
      ],
      "execution_count": 49,
      "outputs": [
        {
          "output_type": "stream",
          "text": [
            "Accuracy is 99.93328885923948%\n"
          ],
          "name": "stdout"
        }
      ]
    },
    {
      "cell_type": "code",
      "metadata": {
        "colab": {
          "base_uri": "https://localhost:8080/"
        },
        "id": "6nQWvdhlmo2u",
        "outputId": "65f0ba05-da76-441c-9874-e42952f44820"
      },
      "source": [
        "train_targets.value_counts()"
      ],
      "execution_count": 50,
      "outputs": [
        {
          "output_type": "execute_result",
          "data": {
            "text/plain": [
              "0    159218\n",
              "1       273\n",
              "Name: Class, dtype: int64"
            ]
          },
          "metadata": {
            "tags": []
          },
          "execution_count": 50
        }
      ]
    }
  ]
}