{
  "nbformat": 4,
  "nbformat_minor": 0,
  "metadata": {
    "colab": {
      "name": "AI-Q2-DL-Car price pridiction.ipynb",
      "provenance": [],
      "collapsed_sections": []
    },
    "kernelspec": {
      "name": "python3",
      "display_name": "Python 3"
    },
    "language_info": {
      "name": "python"
    }
  },
  "cells": [
    {
      "cell_type": "code",
      "metadata": {
        "colab": {
          "resources": {
            "http://localhost:8080/nbextensions/google.colab/files.js": {
              "data": "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",
              "ok": true,
              "headers": [
                [
                  "content-type",
                  "application/javascript"
                ]
              ],
              "status": 200,
              "status_text": ""
            }
          },
          "base_uri": "https://localhost:8080/",
          "height": 89
        },
        "id": "q_3Q8nrB1JE9",
        "outputId": "1bde510d-4461-4b12-917f-fcbe47d6f90e"
      },
      "source": [
        "import pandas as pd\n",
        "import numpy as np\n",
        "import tensorflow as tf\n",
        "from tensorflow.keras import layers, models\n",
        "from tensorflow.keras.utils import to_categorical\n",
        "from tensorflow.keras import regularizers\n",
        "from sklearn.utils import shuffle\n",
        "from google.colab import files\n",
        "uploaded = files.upload()"
      ],
      "execution_count": 3,
      "outputs": [
        {
          "output_type": "display_data",
          "data": {
            "text/html": [
              "\n",
              "     <input type=\"file\" id=\"files-6906d223-b721-48d1-b638-096fd0e6587d\" name=\"files[]\" multiple disabled\n",
              "        style=\"border:none\" />\n",
              "     <output id=\"result-6906d223-b721-48d1-b638-096fd0e6587d\">\n",
              "      Upload widget is only available when the cell has been executed in the\n",
              "      current browser session. Please rerun this cell to enable.\n",
              "      </output>\n",
              "      <script src=\"/nbextensions/google.colab/files.js\"></script> "
            ],
            "text/plain": [
              "<IPython.core.display.HTML object>"
            ]
          },
          "metadata": {
            "tags": []
          }
        },
        {
          "output_type": "stream",
          "text": [
            "Saving CarPrice_Assignment.csv to CarPrice_Assignment.csv\n"
          ],
          "name": "stdout"
        }
      ]
    },
    {
      "cell_type": "code",
      "metadata": {
        "colab": {
          "base_uri": "https://localhost:8080/",
          "height": 275
        },
        "id": "kIe1C38S408G",
        "outputId": "f4c1cdb7-59d0-452f-8db1-132e49011e1a"
      },
      "source": [
        "cars_data = pd.read_csv('CarPrice_Assignment.csv')\n",
        "cars_data.head()"
      ],
      "execution_count": 4,
      "outputs": [
        {
          "output_type": "execute_result",
          "data": {
            "text/html": [
              "<div>\n",
              "<style scoped>\n",
              "    .dataframe tbody tr th:only-of-type {\n",
              "        vertical-align: middle;\n",
              "    }\n",
              "\n",
              "    .dataframe tbody tr th {\n",
              "        vertical-align: top;\n",
              "    }\n",
              "\n",
              "    .dataframe thead th {\n",
              "        text-align: right;\n",
              "    }\n",
              "</style>\n",
              "<table border=\"1\" class=\"dataframe\">\n",
              "  <thead>\n",
              "    <tr style=\"text-align: right;\">\n",
              "      <th></th>\n",
              "      <th>car_ID</th>\n",
              "      <th>symboling</th>\n",
              "      <th>CarName</th>\n",
              "      <th>fueltype</th>\n",
              "      <th>aspiration</th>\n",
              "      <th>doornumber</th>\n",
              "      <th>carbody</th>\n",
              "      <th>drivewheel</th>\n",
              "      <th>enginelocation</th>\n",
              "      <th>wheelbase</th>\n",
              "      <th>carlength</th>\n",
              "      <th>carwidth</th>\n",
              "      <th>carheight</th>\n",
              "      <th>curbweight</th>\n",
              "      <th>enginetype</th>\n",
              "      <th>cylindernumber</th>\n",
              "      <th>enginesize</th>\n",
              "      <th>fuelsystem</th>\n",
              "      <th>boreratio</th>\n",
              "      <th>stroke</th>\n",
              "      <th>compressionratio</th>\n",
              "      <th>horsepower</th>\n",
              "      <th>peakrpm</th>\n",
              "      <th>citympg</th>\n",
              "      <th>highwaympg</th>\n",
              "      <th>price</th>\n",
              "    </tr>\n",
              "  </thead>\n",
              "  <tbody>\n",
              "    <tr>\n",
              "      <th>0</th>\n",
              "      <td>1</td>\n",
              "      <td>3</td>\n",
              "      <td>alfa-romero giulia</td>\n",
              "      <td>gas</td>\n",
              "      <td>std</td>\n",
              "      <td>two</td>\n",
              "      <td>convertible</td>\n",
              "      <td>rwd</td>\n",
              "      <td>front</td>\n",
              "      <td>88.6</td>\n",
              "      <td>168.8</td>\n",
              "      <td>64.1</td>\n",
              "      <td>48.8</td>\n",
              "      <td>2548</td>\n",
              "      <td>dohc</td>\n",
              "      <td>four</td>\n",
              "      <td>130</td>\n",
              "      <td>mpfi</td>\n",
              "      <td>3.47</td>\n",
              "      <td>2.68</td>\n",
              "      <td>9.0</td>\n",
              "      <td>111</td>\n",
              "      <td>5000</td>\n",
              "      <td>21</td>\n",
              "      <td>27</td>\n",
              "      <td>13495.0</td>\n",
              "    </tr>\n",
              "    <tr>\n",
              "      <th>1</th>\n",
              "      <td>2</td>\n",
              "      <td>3</td>\n",
              "      <td>alfa-romero stelvio</td>\n",
              "      <td>gas</td>\n",
              "      <td>std</td>\n",
              "      <td>two</td>\n",
              "      <td>convertible</td>\n",
              "      <td>rwd</td>\n",
              "      <td>front</td>\n",
              "      <td>88.6</td>\n",
              "      <td>168.8</td>\n",
              "      <td>64.1</td>\n",
              "      <td>48.8</td>\n",
              "      <td>2548</td>\n",
              "      <td>dohc</td>\n",
              "      <td>four</td>\n",
              "      <td>130</td>\n",
              "      <td>mpfi</td>\n",
              "      <td>3.47</td>\n",
              "      <td>2.68</td>\n",
              "      <td>9.0</td>\n",
              "      <td>111</td>\n",
              "      <td>5000</td>\n",
              "      <td>21</td>\n",
              "      <td>27</td>\n",
              "      <td>16500.0</td>\n",
              "    </tr>\n",
              "    <tr>\n",
              "      <th>2</th>\n",
              "      <td>3</td>\n",
              "      <td>1</td>\n",
              "      <td>alfa-romero Quadrifoglio</td>\n",
              "      <td>gas</td>\n",
              "      <td>std</td>\n",
              "      <td>two</td>\n",
              "      <td>hatchback</td>\n",
              "      <td>rwd</td>\n",
              "      <td>front</td>\n",
              "      <td>94.5</td>\n",
              "      <td>171.2</td>\n",
              "      <td>65.5</td>\n",
              "      <td>52.4</td>\n",
              "      <td>2823</td>\n",
              "      <td>ohcv</td>\n",
              "      <td>six</td>\n",
              "      <td>152</td>\n",
              "      <td>mpfi</td>\n",
              "      <td>2.68</td>\n",
              "      <td>3.47</td>\n",
              "      <td>9.0</td>\n",
              "      <td>154</td>\n",
              "      <td>5000</td>\n",
              "      <td>19</td>\n",
              "      <td>26</td>\n",
              "      <td>16500.0</td>\n",
              "    </tr>\n",
              "    <tr>\n",
              "      <th>3</th>\n",
              "      <td>4</td>\n",
              "      <td>2</td>\n",
              "      <td>audi 100 ls</td>\n",
              "      <td>gas</td>\n",
              "      <td>std</td>\n",
              "      <td>four</td>\n",
              "      <td>sedan</td>\n",
              "      <td>fwd</td>\n",
              "      <td>front</td>\n",
              "      <td>99.8</td>\n",
              "      <td>176.6</td>\n",
              "      <td>66.2</td>\n",
              "      <td>54.3</td>\n",
              "      <td>2337</td>\n",
              "      <td>ohc</td>\n",
              "      <td>four</td>\n",
              "      <td>109</td>\n",
              "      <td>mpfi</td>\n",
              "      <td>3.19</td>\n",
              "      <td>3.40</td>\n",
              "      <td>10.0</td>\n",
              "      <td>102</td>\n",
              "      <td>5500</td>\n",
              "      <td>24</td>\n",
              "      <td>30</td>\n",
              "      <td>13950.0</td>\n",
              "    </tr>\n",
              "    <tr>\n",
              "      <th>4</th>\n",
              "      <td>5</td>\n",
              "      <td>2</td>\n",
              "      <td>audi 100ls</td>\n",
              "      <td>gas</td>\n",
              "      <td>std</td>\n",
              "      <td>four</td>\n",
              "      <td>sedan</td>\n",
              "      <td>4wd</td>\n",
              "      <td>front</td>\n",
              "      <td>99.4</td>\n",
              "      <td>176.6</td>\n",
              "      <td>66.4</td>\n",
              "      <td>54.3</td>\n",
              "      <td>2824</td>\n",
              "      <td>ohc</td>\n",
              "      <td>five</td>\n",
              "      <td>136</td>\n",
              "      <td>mpfi</td>\n",
              "      <td>3.19</td>\n",
              "      <td>3.40</td>\n",
              "      <td>8.0</td>\n",
              "      <td>115</td>\n",
              "      <td>5500</td>\n",
              "      <td>18</td>\n",
              "      <td>22</td>\n",
              "      <td>17450.0</td>\n",
              "    </tr>\n",
              "  </tbody>\n",
              "</table>\n",
              "</div>"
            ],
            "text/plain": [
              "   car_ID  symboling                   CarName  ... citympg highwaympg    price\n",
              "0       1          3        alfa-romero giulia  ...      21         27  13495.0\n",
              "1       2          3       alfa-romero stelvio  ...      21         27  16500.0\n",
              "2       3          1  alfa-romero Quadrifoglio  ...      19         26  16500.0\n",
              "3       4          2               audi 100 ls  ...      24         30  13950.0\n",
              "4       5          2                audi 100ls  ...      18         22  17450.0\n",
              "\n",
              "[5 rows x 26 columns]"
            ]
          },
          "metadata": {
            "tags": []
          },
          "execution_count": 4
        }
      ]
    },
    {
      "cell_type": "code",
      "metadata": {
        "colab": {
          "base_uri": "https://localhost:8080/"
        },
        "id": "mJni-mWw5rYA",
        "outputId": "bf0bbdbc-29c2-4aad-a658-eb309b3adaad"
      },
      "source": [
        "cars_data.shape"
      ],
      "execution_count": 5,
      "outputs": [
        {
          "output_type": "execute_result",
          "data": {
            "text/plain": [
              "(205, 26)"
            ]
          },
          "metadata": {
            "tags": []
          },
          "execution_count": 5
        }
      ]
    },
    {
      "cell_type": "code",
      "metadata": {
        "colab": {
          "base_uri": "https://localhost:8080/"
        },
        "id": "V44HdaPO5wHy",
        "outputId": "b446af19-4b8b-4de8-8f25-35b0c09de6c8"
      },
      "source": [
        "cars_data.size"
      ],
      "execution_count": 6,
      "outputs": [
        {
          "output_type": "execute_result",
          "data": {
            "text/plain": [
              "5330"
            ]
          },
          "metadata": {
            "tags": []
          },
          "execution_count": 6
        }
      ]
    },
    {
      "cell_type": "code",
      "metadata": {
        "colab": {
          "base_uri": "https://localhost:8080/"
        },
        "id": "d2eTmqYy54Vi",
        "outputId": "eb9fd389-53b0-4eda-9410-a924e95ab524"
      },
      "source": [
        "cars_data.ndim"
      ],
      "execution_count": 7,
      "outputs": [
        {
          "output_type": "execute_result",
          "data": {
            "text/plain": [
              "2"
            ]
          },
          "metadata": {
            "tags": []
          },
          "execution_count": 7
        }
      ]
    },
    {
      "cell_type": "code",
      "metadata": {
        "colab": {
          "base_uri": "https://localhost:8080/"
        },
        "id": "pg3KjBbX59m0",
        "outputId": "17f37240-6ae4-491c-8c8a-da9b8cad7f1d"
      },
      "source": [
        "cars_data.isna().sum()"
      ],
      "execution_count": 8,
      "outputs": [
        {
          "output_type": "execute_result",
          "data": {
            "text/plain": [
              "car_ID              0\n",
              "symboling           0\n",
              "CarName             0\n",
              "fueltype            0\n",
              "aspiration          0\n",
              "doornumber          0\n",
              "carbody             0\n",
              "drivewheel          0\n",
              "enginelocation      0\n",
              "wheelbase           0\n",
              "carlength           0\n",
              "carwidth            0\n",
              "carheight           0\n",
              "curbweight          0\n",
              "enginetype          0\n",
              "cylindernumber      0\n",
              "enginesize          0\n",
              "fuelsystem          0\n",
              "boreratio           0\n",
              "stroke              0\n",
              "compressionratio    0\n",
              "horsepower          0\n",
              "peakrpm             0\n",
              "citympg             0\n",
              "highwaympg          0\n",
              "price               0\n",
              "dtype: int64"
            ]
          },
          "metadata": {
            "tags": []
          },
          "execution_count": 8
        }
      ]
    },
    {
      "cell_type": "code",
      "metadata": {
        "colab": {
          "base_uri": "https://localhost:8080/",
          "height": 224
        },
        "id": "RsUjmzqU7p52",
        "outputId": "7903db0c-dd12-442c-f29b-5f975281077b"
      },
      "source": [
        "cars_data=shuffle(cars_data)\n",
        "cars_data=cars_data.drop('CarName',axis=1)\n",
        "cars_data=cars_data.drop('car_ID',axis=1)\n",
        "cars_data.head()"
      ],
      "execution_count": 9,
      "outputs": [
        {
          "output_type": "execute_result",
          "data": {
            "text/html": [
              "<div>\n",
              "<style scoped>\n",
              "    .dataframe tbody tr th:only-of-type {\n",
              "        vertical-align: middle;\n",
              "    }\n",
              "\n",
              "    .dataframe tbody tr th {\n",
              "        vertical-align: top;\n",
              "    }\n",
              "\n",
              "    .dataframe thead th {\n",
              "        text-align: right;\n",
              "    }\n",
              "</style>\n",
              "<table border=\"1\" class=\"dataframe\">\n",
              "  <thead>\n",
              "    <tr style=\"text-align: right;\">\n",
              "      <th></th>\n",
              "      <th>symboling</th>\n",
              "      <th>fueltype</th>\n",
              "      <th>aspiration</th>\n",
              "      <th>doornumber</th>\n",
              "      <th>carbody</th>\n",
              "      <th>drivewheel</th>\n",
              "      <th>enginelocation</th>\n",
              "      <th>wheelbase</th>\n",
              "      <th>carlength</th>\n",
              "      <th>carwidth</th>\n",
              "      <th>carheight</th>\n",
              "      <th>curbweight</th>\n",
              "      <th>enginetype</th>\n",
              "      <th>cylindernumber</th>\n",
              "      <th>enginesize</th>\n",
              "      <th>fuelsystem</th>\n",
              "      <th>boreratio</th>\n",
              "      <th>stroke</th>\n",
              "      <th>compressionratio</th>\n",
              "      <th>horsepower</th>\n",
              "      <th>peakrpm</th>\n",
              "      <th>citympg</th>\n",
              "      <th>highwaympg</th>\n",
              "      <th>price</th>\n",
              "    </tr>\n",
              "  </thead>\n",
              "  <tbody>\n",
              "    <tr>\n",
              "      <th>102</th>\n",
              "      <td>0</td>\n",
              "      <td>gas</td>\n",
              "      <td>std</td>\n",
              "      <td>four</td>\n",
              "      <td>wagon</td>\n",
              "      <td>fwd</td>\n",
              "      <td>front</td>\n",
              "      <td>100.4</td>\n",
              "      <td>184.6</td>\n",
              "      <td>66.5</td>\n",
              "      <td>56.1</td>\n",
              "      <td>3296</td>\n",
              "      <td>ohcv</td>\n",
              "      <td>six</td>\n",
              "      <td>181</td>\n",
              "      <td>mpfi</td>\n",
              "      <td>3.43</td>\n",
              "      <td>3.27</td>\n",
              "      <td>9.0</td>\n",
              "      <td>152</td>\n",
              "      <td>5200</td>\n",
              "      <td>17</td>\n",
              "      <td>22</td>\n",
              "      <td>14399.0</td>\n",
              "    </tr>\n",
              "    <tr>\n",
              "      <th>100</th>\n",
              "      <td>0</td>\n",
              "      <td>gas</td>\n",
              "      <td>std</td>\n",
              "      <td>four</td>\n",
              "      <td>sedan</td>\n",
              "      <td>fwd</td>\n",
              "      <td>front</td>\n",
              "      <td>97.2</td>\n",
              "      <td>173.4</td>\n",
              "      <td>65.2</td>\n",
              "      <td>54.7</td>\n",
              "      <td>2302</td>\n",
              "      <td>ohc</td>\n",
              "      <td>four</td>\n",
              "      <td>120</td>\n",
              "      <td>2bbl</td>\n",
              "      <td>3.33</td>\n",
              "      <td>3.47</td>\n",
              "      <td>8.5</td>\n",
              "      <td>97</td>\n",
              "      <td>5200</td>\n",
              "      <td>27</td>\n",
              "      <td>34</td>\n",
              "      <td>9549.0</td>\n",
              "    </tr>\n",
              "    <tr>\n",
              "      <th>3</th>\n",
              "      <td>2</td>\n",
              "      <td>gas</td>\n",
              "      <td>std</td>\n",
              "      <td>four</td>\n",
              "      <td>sedan</td>\n",
              "      <td>fwd</td>\n",
              "      <td>front</td>\n",
              "      <td>99.8</td>\n",
              "      <td>176.6</td>\n",
              "      <td>66.2</td>\n",
              "      <td>54.3</td>\n",
              "      <td>2337</td>\n",
              "      <td>ohc</td>\n",
              "      <td>four</td>\n",
              "      <td>109</td>\n",
              "      <td>mpfi</td>\n",
              "      <td>3.19</td>\n",
              "      <td>3.40</td>\n",
              "      <td>10.0</td>\n",
              "      <td>102</td>\n",
              "      <td>5500</td>\n",
              "      <td>24</td>\n",
              "      <td>30</td>\n",
              "      <td>13950.0</td>\n",
              "    </tr>\n",
              "    <tr>\n",
              "      <th>144</th>\n",
              "      <td>0</td>\n",
              "      <td>gas</td>\n",
              "      <td>std</td>\n",
              "      <td>four</td>\n",
              "      <td>sedan</td>\n",
              "      <td>4wd</td>\n",
              "      <td>front</td>\n",
              "      <td>97.0</td>\n",
              "      <td>172.0</td>\n",
              "      <td>65.4</td>\n",
              "      <td>54.3</td>\n",
              "      <td>2385</td>\n",
              "      <td>ohcf</td>\n",
              "      <td>four</td>\n",
              "      <td>108</td>\n",
              "      <td>2bbl</td>\n",
              "      <td>3.62</td>\n",
              "      <td>2.64</td>\n",
              "      <td>9.0</td>\n",
              "      <td>82</td>\n",
              "      <td>4800</td>\n",
              "      <td>24</td>\n",
              "      <td>25</td>\n",
              "      <td>9233.0</td>\n",
              "    </tr>\n",
              "    <tr>\n",
              "      <th>61</th>\n",
              "      <td>1</td>\n",
              "      <td>gas</td>\n",
              "      <td>std</td>\n",
              "      <td>two</td>\n",
              "      <td>hatchback</td>\n",
              "      <td>fwd</td>\n",
              "      <td>front</td>\n",
              "      <td>98.8</td>\n",
              "      <td>177.8</td>\n",
              "      <td>66.5</td>\n",
              "      <td>53.7</td>\n",
              "      <td>2385</td>\n",
              "      <td>ohc</td>\n",
              "      <td>four</td>\n",
              "      <td>122</td>\n",
              "      <td>2bbl</td>\n",
              "      <td>3.39</td>\n",
              "      <td>3.39</td>\n",
              "      <td>8.6</td>\n",
              "      <td>84</td>\n",
              "      <td>4800</td>\n",
              "      <td>26</td>\n",
              "      <td>32</td>\n",
              "      <td>10595.0</td>\n",
              "    </tr>\n",
              "  </tbody>\n",
              "</table>\n",
              "</div>"
            ],
            "text/plain": [
              "     symboling fueltype aspiration  ... citympg highwaympg    price\n",
              "102          0      gas        std  ...      17         22  14399.0\n",
              "100          0      gas        std  ...      27         34   9549.0\n",
              "3            2      gas        std  ...      24         30  13950.0\n",
              "144          0      gas        std  ...      24         25   9233.0\n",
              "61           1      gas        std  ...      26         32  10595.0\n",
              "\n",
              "[5 rows x 24 columns]"
            ]
          },
          "metadata": {
            "tags": []
          },
          "execution_count": 9
        }
      ]
    },
    {
      "cell_type": "code",
      "metadata": {
        "id": "rrorfPpfCuZR"
      },
      "source": [
        "from sklearn.preprocessing import LabelEncoder\n",
        "labelencoder = LabelEncoder()\n",
        "cars_data['fueltype']=labelencoder.fit_transform(cars_data['fueltype'])\n",
        "cars_data['aspiration']=labelencoder.fit_transform(cars_data['aspiration'])\n",
        "cars_data['doornumber'] = cars_data['doornumber'].map({'two':2,'four':4})\n",
        "cars_data['carbody']=labelencoder.fit_transform(cars_data['carbody'])\n",
        "cars_data['drivewheel']=labelencoder.fit_transform(cars_data['drivewheel'])\n",
        "cars_data['enginelocation']=labelencoder.fit_transform(cars_data['enginelocation'])\n",
        "cars_data['enginetype']=labelencoder.fit_transform(cars_data['enginetype'])\n",
        "cars_data['fuelsystem']=labelencoder.fit_transform(cars_data['fuelsystem'])\n",
        "cars_data['cylindernumber'] = labelencoder.fit_transform(cars_data['cylindernumber'])"
      ],
      "execution_count": 10,
      "outputs": []
    },
    {
      "cell_type": "markdown",
      "metadata": {
        "id": "mLcTyRtd97ND"
      },
      "source": [
        "Split into 50% Training(Samples,Labels) , 30% Test(Samples,Labels) and 20% Validation Data(Samples,Labels)."
      ]
    },
    {
      "cell_type": "code",
      "metadata": {
        "colab": {
          "base_uri": "https://localhost:8080/"
        },
        "id": "viDeZtpg8v-1",
        "outputId": "e5f47391-157a-47d8-daba-ccbe143945f9"
      },
      "source": [
        "train_data=cars_data.iloc[:103]\n",
        "train_targets=cars_data.price.iloc[:103]\n",
        "train_targets=np.asarray(train_targets)\n",
        "train_data.drop('price',axis=1,inplace=True)\n",
        "\n",
        "print(train_data.shape)\n",
        "\n",
        "test_data=cars_data.iloc[103:166]\n",
        "test_targets=cars_data.price.iloc[103:166]\n",
        "test_targets=np.asarray(test_targets)\n",
        "test_data.drop('price',axis=1,inplace=True)\n",
        "\n",
        "print(test_data.shape)\n",
        "\n",
        "val_data=cars_data.iloc[166:]\n",
        "val_data.drop('price',axis=1,inplace=True)\n",
        "val_targets=cars_data.price.iloc[166:]\n",
        "val_targets=np.asarray(val_targets)\n",
        "\n",
        "print(val_data.shape)"
      ],
      "execution_count": 11,
      "outputs": [
        {
          "output_type": "stream",
          "text": [
            "(103, 23)\n",
            "(63, 23)\n",
            "(39, 23)\n"
          ],
          "name": "stdout"
        },
        {
          "output_type": "stream",
          "text": [
            "/usr/local/lib/python3.7/dist-packages/pandas/core/frame.py:4174: SettingWithCopyWarning: \n",
            "A value is trying to be set on a copy of a slice from a DataFrame\n",
            "\n",
            "See the caveats in the documentation: https://pandas.pydata.org/pandas-docs/stable/user_guide/indexing.html#returning-a-view-versus-a-copy\n",
            "  errors=errors,\n"
          ],
          "name": "stderr"
        }
      ]
    },
    {
      "cell_type": "code",
      "metadata": {
        "colab": {
          "base_uri": "https://localhost:8080/"
        },
        "id": "DdfZrBTd-TM_",
        "outputId": "56e2126d-7ab4-450e-f902-d00c879d0796"
      },
      "source": [
        "model = models.Sequential()\n",
        "model.add(layers.Dense(10, activation='relu', input_shape=(train_data.shape[1],)))\n",
        "model.add(layers.Dense(8, activation='relu'))\n",
        "model.add(layers.Dense(6))\n",
        "model.add(layers.Dense(1))\n",
        "\n",
        "\n",
        "model.compile(optimizer='rmsprop', loss='mse', metrics=['mae'])\n",
        "his=model.fit(train_data,train_targets,epochs=100,batch_size=1,validation_data=(val_data,val_targets))"
      ],
      "execution_count": 13,
      "outputs": [
        {
          "output_type": "stream",
          "text": [
            "Epoch 1/100\n",
            "103/103 [==============================] - 1s 5ms/step - loss: 283315746.1154 - mae: 14249.0749 - val_loss: 201789360.0000 - val_mae: 11908.7969\n",
            "Epoch 2/100\n",
            "103/103 [==============================] - 0s 2ms/step - loss: 200859563.1538 - mae: 11488.9529 - val_loss: 120533304.0000 - val_mae: 7992.9521\n",
            "Epoch 3/100\n",
            "103/103 [==============================] - 0s 2ms/step - loss: 130436673.9231 - mae: 7952.5938 - val_loss: 59046072.0000 - val_mae: 4651.5664\n",
            "Epoch 4/100\n",
            "103/103 [==============================] - 0s 2ms/step - loss: 109035023.1538 - mae: 7411.2348 - val_loss: 50186576.0000 - val_mae: 4643.7612\n",
            "Epoch 5/100\n",
            "103/103 [==============================] - 0s 2ms/step - loss: 53309319.7885 - mae: 5171.6115 - val_loss: 49452380.0000 - val_mae: 4883.2373\n",
            "Epoch 6/100\n",
            "103/103 [==============================] - 0s 2ms/step - loss: 81115938.8942 - mae: 6935.9013 - val_loss: 48878932.0000 - val_mae: 4746.1143\n",
            "Epoch 7/100\n",
            "103/103 [==============================] - 0s 2ms/step - loss: 80588982.8462 - mae: 6474.6655 - val_loss: 48545844.0000 - val_mae: 4665.0078\n",
            "Epoch 8/100\n",
            "103/103 [==============================] - 0s 2ms/step - loss: 53238145.8846 - mae: 5253.0548 - val_loss: 48026820.0000 - val_mae: 4785.0903\n",
            "Epoch 9/100\n",
            "103/103 [==============================] - 0s 2ms/step - loss: 51906630.5986 - mae: 5375.1678 - val_loss: 47525728.0000 - val_mae: 4757.4336\n",
            "Epoch 10/100\n",
            "103/103 [==============================] - 0s 2ms/step - loss: 56798971.0385 - mae: 5661.5578 - val_loss: 47199148.0000 - val_mae: 4775.2769\n",
            "Epoch 11/100\n",
            "103/103 [==============================] - 0s 2ms/step - loss: 53164481.4832 - mae: 5498.3339 - val_loss: 47383892.0000 - val_mae: 4933.2856\n",
            "Epoch 12/100\n",
            "103/103 [==============================] - 0s 2ms/step - loss: 71374045.5192 - mae: 6227.2065 - val_loss: 46399976.0000 - val_mae: 4746.1909\n",
            "Epoch 13/100\n",
            "103/103 [==============================] - 0s 2ms/step - loss: 62767774.7781 - mae: 5694.8771 - val_loss: 45837104.0000 - val_mae: 4590.5674\n",
            "Epoch 14/100\n",
            "103/103 [==============================] - 0s 2ms/step - loss: 51334803.8269 - mae: 5432.7543 - val_loss: 45462972.0000 - val_mae: 4664.0737\n",
            "Epoch 15/100\n",
            "103/103 [==============================] - 0s 2ms/step - loss: 61978517.8654 - mae: 5738.3079 - val_loss: 45023228.0000 - val_mae: 4505.5850\n",
            "Epoch 16/100\n",
            "103/103 [==============================] - 0s 2ms/step - loss: 62547830.5000 - mae: 5804.8600 - val_loss: 44500192.0000 - val_mae: 4581.0239\n",
            "Epoch 17/100\n",
            "103/103 [==============================] - 0s 2ms/step - loss: 62065060.3269 - mae: 5925.9337 - val_loss: 44125348.0000 - val_mae: 4585.5903\n",
            "Epoch 18/100\n",
            "103/103 [==============================] - 0s 2ms/step - loss: 79278247.5385 - mae: 6837.7431 - val_loss: 43699228.0000 - val_mae: 4567.1050\n",
            "Epoch 19/100\n",
            "103/103 [==============================] - 0s 2ms/step - loss: 65511854.4231 - mae: 6097.4039 - val_loss: 43296100.0000 - val_mae: 4431.2578\n",
            "Epoch 20/100\n",
            "103/103 [==============================] - 0s 2ms/step - loss: 54075129.5577 - mae: 5384.2212 - val_loss: 43108724.0000 - val_mae: 4660.0776\n",
            "Epoch 21/100\n",
            "103/103 [==============================] - 0s 2ms/step - loss: 48212436.0288 - mae: 5540.9981 - val_loss: 42822492.0000 - val_mae: 4692.9521\n",
            "Epoch 22/100\n",
            "103/103 [==============================] - 0s 2ms/step - loss: 56404389.8173 - mae: 5473.7912 - val_loss: 41965232.0000 - val_mae: 4439.9170\n",
            "Epoch 23/100\n",
            "103/103 [==============================] - 0s 2ms/step - loss: 56025383.5240 - mae: 5808.3708 - val_loss: 41635792.0000 - val_mae: 4347.5303\n",
            "Epoch 24/100\n",
            "103/103 [==============================] - 0s 2ms/step - loss: 56859704.1923 - mae: 5422.2552 - val_loss: 41230256.0000 - val_mae: 4316.5439\n",
            "Epoch 25/100\n",
            "103/103 [==============================] - 0s 2ms/step - loss: 50017628.4088 - mae: 5033.4350 - val_loss: 41002576.0000 - val_mae: 4572.0972\n",
            "Epoch 26/100\n",
            "103/103 [==============================] - 0s 2ms/step - loss: 48771645.6010 - mae: 5075.8956 - val_loss: 40686708.0000 - val_mae: 4614.1768\n",
            "Epoch 27/100\n",
            "103/103 [==============================] - 0s 2ms/step - loss: 49369360.4790 - mae: 5207.4292 - val_loss: 40188876.0000 - val_mae: 4588.1221\n",
            "Epoch 28/100\n",
            "103/103 [==============================] - 0s 2ms/step - loss: 69868272.8077 - mae: 6228.3885 - val_loss: 39312880.0000 - val_mae: 4355.7212\n",
            "Epoch 29/100\n",
            "103/103 [==============================] - 0s 2ms/step - loss: 88330234.0000 - mae: 6749.8369 - val_loss: 39143872.0000 - val_mae: 4125.7798\n",
            "Epoch 30/100\n",
            "103/103 [==============================] - 0s 2ms/step - loss: 49117183.0288 - mae: 5118.3032 - val_loss: 38461140.0000 - val_mae: 4419.0254\n",
            "Epoch 31/100\n",
            "103/103 [==============================] - 0s 2ms/step - loss: 52463828.3462 - mae: 5277.0918 - val_loss: 37930772.0000 - val_mae: 4386.8818\n",
            "Epoch 32/100\n",
            "103/103 [==============================] - 0s 2ms/step - loss: 41957891.3606 - mae: 4602.9930 - val_loss: 37370888.0000 - val_mae: 4267.4561\n",
            "Epoch 33/100\n",
            "103/103 [==============================] - 0s 2ms/step - loss: 39847633.1863 - mae: 4572.0393 - val_loss: 37344276.0000 - val_mae: 4481.2666\n",
            "Epoch 34/100\n",
            "103/103 [==============================] - 0s 2ms/step - loss: 71441888.8077 - mae: 6623.8353 - val_loss: 36336340.0000 - val_mae: 4168.4834\n",
            "Epoch 35/100\n",
            "103/103 [==============================] - 0s 2ms/step - loss: 45076235.9135 - mae: 5133.1286 - val_loss: 35976364.0000 - val_mae: 4324.9668\n",
            "Epoch 36/100\n",
            "103/103 [==============================] - 0s 2ms/step - loss: 34072621.6346 - mae: 4265.7359 - val_loss: 35408088.0000 - val_mae: 4270.6221\n",
            "Epoch 37/100\n",
            "103/103 [==============================] - 0s 2ms/step - loss: 50835636.6923 - mae: 5228.3680 - val_loss: 34735592.0000 - val_mae: 4091.1257\n",
            "Epoch 38/100\n",
            "103/103 [==============================] - 0s 2ms/step - loss: 54776180.2500 - mae: 5371.2459 - val_loss: 34233584.0000 - val_mae: 4148.6509\n",
            "Epoch 39/100\n",
            "103/103 [==============================] - 0s 2ms/step - loss: 61831464.8798 - mae: 5639.9848 - val_loss: 33756452.0000 - val_mae: 4176.2476\n",
            "Epoch 40/100\n",
            "103/103 [==============================] - 0s 2ms/step - loss: 57571677.2620 - mae: 5456.2416 - val_loss: 33109052.0000 - val_mae: 4028.5945\n",
            "Epoch 41/100\n",
            "103/103 [==============================] - 0s 2ms/step - loss: 38221738.6058 - mae: 4759.4924 - val_loss: 32648426.0000 - val_mae: 4121.3223\n",
            "Epoch 42/100\n",
            "103/103 [==============================] - 0s 2ms/step - loss: 33362472.5523 - mae: 3967.1529 - val_loss: 32187622.0000 - val_mae: 4114.5371\n",
            "Epoch 43/100\n",
            "103/103 [==============================] - 0s 2ms/step - loss: 32089731.8173 - mae: 4302.9129 - val_loss: 31678176.0000 - val_mae: 4127.3379\n",
            "Epoch 44/100\n",
            "103/103 [==============================] - 0s 2ms/step - loss: 29708346.9712 - mae: 4252.2466 - val_loss: 31195936.0000 - val_mae: 4156.9307\n",
            "Epoch 45/100\n",
            "103/103 [==============================] - 0s 2ms/step - loss: 39324246.2115 - mae: 4784.3268 - val_loss: 30614302.0000 - val_mae: 4124.0674\n",
            "Epoch 46/100\n",
            "103/103 [==============================] - 0s 2ms/step - loss: 26932627.5288 - mae: 4072.9685 - val_loss: 30296602.0000 - val_mae: 4196.0513\n",
            "Epoch 47/100\n",
            "103/103 [==============================] - 0s 2ms/step - loss: 42281665.8027 - mae: 4565.4321 - val_loss: 29351418.0000 - val_mae: 4060.2964\n",
            "Epoch 48/100\n",
            "103/103 [==============================] - 0s 2ms/step - loss: 30519594.4038 - mae: 4153.1847 - val_loss: 28583706.0000 - val_mae: 3946.6726\n",
            "Epoch 49/100\n",
            "103/103 [==============================] - 0s 2ms/step - loss: 34982855.9904 - mae: 4334.7829 - val_loss: 28013124.0000 - val_mae: 3968.8145\n",
            "Epoch 50/100\n",
            "103/103 [==============================] - 0s 2ms/step - loss: 46859855.5337 - mae: 4947.7245 - val_loss: 27106606.0000 - val_mae: 3736.9951\n",
            "Epoch 51/100\n",
            "103/103 [==============================] - 0s 2ms/step - loss: 21345592.5096 - mae: 3445.8409 - val_loss: 27221558.0000 - val_mae: 4033.8606\n",
            "Epoch 52/100\n",
            "103/103 [==============================] - 0s 2ms/step - loss: 39432520.9808 - mae: 4780.4736 - val_loss: 25879432.0000 - val_mae: 3685.7512\n",
            "Epoch 53/100\n",
            "103/103 [==============================] - 0s 2ms/step - loss: 51584857.0192 - mae: 5186.4280 - val_loss: 25492722.0000 - val_mae: 3428.8425\n",
            "Epoch 54/100\n",
            "103/103 [==============================] - 0s 2ms/step - loss: 57854396.6538 - mae: 5276.5115 - val_loss: 25854260.0000 - val_mae: 3165.9812\n",
            "Epoch 55/100\n",
            "103/103 [==============================] - 0s 2ms/step - loss: 16859588.9447 - mae: 2794.8116 - val_loss: 25309984.0000 - val_mae: 4011.7036\n",
            "Epoch 56/100\n",
            "103/103 [==============================] - 0s 2ms/step - loss: 30539951.6635 - mae: 4227.2004 - val_loss: 23839262.0000 - val_mae: 3676.7283\n",
            "Epoch 57/100\n",
            "103/103 [==============================] - 0s 2ms/step - loss: 33515227.7692 - mae: 4314.4325 - val_loss: 23049672.0000 - val_mae: 3412.8662\n",
            "Epoch 58/100\n",
            "103/103 [==============================] - 0s 2ms/step - loss: 38511237.3924 - mae: 4291.3667 - val_loss: 22579756.0000 - val_mae: 3332.2996\n",
            "Epoch 59/100\n",
            "103/103 [==============================] - 0s 2ms/step - loss: 24101544.5481 - mae: 3592.7186 - val_loss: 22742226.0000 - val_mae: 3710.7271\n",
            "Epoch 60/100\n",
            "103/103 [==============================] - 0s 2ms/step - loss: 29670381.5240 - mae: 3754.2071 - val_loss: 21970262.0000 - val_mae: 3545.4595\n",
            "Epoch 61/100\n",
            "103/103 [==============================] - 0s 2ms/step - loss: 34727656.9895 - mae: 4216.2477 - val_loss: 21361532.0000 - val_mae: 3437.2576\n",
            "Epoch 62/100\n",
            "103/103 [==============================] - 0s 2ms/step - loss: 30507026.5673 - mae: 3951.6938 - val_loss: 20920582.0000 - val_mae: 3393.8845\n",
            "Epoch 63/100\n",
            "103/103 [==============================] - 0s 2ms/step - loss: 24101409.7572 - mae: 3618.7029 - val_loss: 20687876.0000 - val_mae: 3451.3350\n",
            "Epoch 64/100\n",
            "103/103 [==============================] - 0s 2ms/step - loss: 22795570.1442 - mae: 3592.9009 - val_loss: 20333260.0000 - val_mae: 3410.3232\n",
            "Epoch 65/100\n",
            "103/103 [==============================] - 0s 2ms/step - loss: 29149755.7644 - mae: 3866.3395 - val_loss: 20345138.0000 - val_mae: 3499.8901\n",
            "Epoch 66/100\n",
            "103/103 [==============================] - 0s 2ms/step - loss: 29111458.3558 - mae: 3919.0353 - val_loss: 19299356.0000 - val_mae: 3062.7937\n",
            "Epoch 67/100\n",
            "103/103 [==============================] - 0s 2ms/step - loss: 23727698.0192 - mae: 3281.6052 - val_loss: 19198086.0000 - val_mae: 3163.1189\n",
            "Epoch 68/100\n",
            "103/103 [==============================] - 0s 2ms/step - loss: 28794450.5299 - mae: 3759.1604 - val_loss: 19663994.0000 - val_mae: 3404.7949\n",
            "Epoch 69/100\n",
            "103/103 [==============================] - 0s 2ms/step - loss: 33006637.7470 - mae: 3898.9379 - val_loss: 18669884.0000 - val_mae: 3062.1118\n",
            "Epoch 70/100\n",
            "103/103 [==============================] - 0s 2ms/step - loss: 31437031.1298 - mae: 3703.7350 - val_loss: 18362322.0000 - val_mae: 2949.1914\n",
            "Epoch 71/100\n",
            "103/103 [==============================] - 0s 2ms/step - loss: 42169579.4615 - mae: 4523.6945 - val_loss: 18245590.0000 - val_mae: 3008.0754\n",
            "Epoch 72/100\n",
            "103/103 [==============================] - 0s 2ms/step - loss: 26324876.7019 - mae: 3687.4160 - val_loss: 18308960.0000 - val_mae: 3106.4805\n",
            "Epoch 73/100\n",
            "103/103 [==============================] - 0s 2ms/step - loss: 31037365.7019 - mae: 3904.1163 - val_loss: 17995680.0000 - val_mae: 2963.8513\n",
            "Epoch 74/100\n",
            "103/103 [==============================] - 0s 2ms/step - loss: 24872501.0305 - mae: 3614.0849 - val_loss: 17883690.0000 - val_mae: 2878.0095\n",
            "Epoch 75/100\n",
            "103/103 [==============================] - 0s 2ms/step - loss: 22803768.7133 - mae: 3282.1639 - val_loss: 17847298.0000 - val_mae: 2846.9651\n",
            "Epoch 76/100\n",
            "103/103 [==============================] - 0s 2ms/step - loss: 35776056.1442 - mae: 3962.9228 - val_loss: 17668146.0000 - val_mae: 2933.1880\n",
            "Epoch 77/100\n",
            "103/103 [==============================] - 0s 2ms/step - loss: 28373460.0312 - mae: 3423.6390 - val_loss: 17901798.0000 - val_mae: 2770.2720\n",
            "Epoch 78/100\n",
            "103/103 [==============================] - 0s 2ms/step - loss: 29607606.1550 - mae: 3532.5648 - val_loss: 17420850.0000 - val_mae: 2845.2524\n",
            "Epoch 79/100\n",
            "103/103 [==============================] - 0s 2ms/step - loss: 21081184.7115 - mae: 3239.5708 - val_loss: 17438870.0000 - val_mae: 2940.1780\n",
            "Epoch 80/100\n",
            "103/103 [==============================] - 0s 2ms/step - loss: 14597287.2484 - mae: 2812.5420 - val_loss: 18135694.0000 - val_mae: 3171.7668\n",
            "Epoch 81/100\n",
            "103/103 [==============================] - 0s 2ms/step - loss: 25570161.4808 - mae: 3706.5920 - val_loss: 17660364.0000 - val_mae: 3050.6194\n",
            "Epoch 82/100\n",
            "103/103 [==============================] - 0s 2ms/step - loss: 16113852.1923 - mae: 2681.8365 - val_loss: 18522444.0000 - val_mae: 3267.7375\n",
            "Epoch 83/100\n",
            "103/103 [==============================] - 0s 2ms/step - loss: 39792772.9952 - mae: 4407.8859 - val_loss: 17176062.0000 - val_mae: 2897.5308\n",
            "Epoch 84/100\n",
            "103/103 [==============================] - 0s 2ms/step - loss: 32120737.1538 - mae: 4009.4932 - val_loss: 17138546.0000 - val_mae: 2738.3706\n",
            "Epoch 85/100\n",
            "103/103 [==============================] - 0s 2ms/step - loss: 32934545.6801 - mae: 3802.7046 - val_loss: 17004736.0000 - val_mae: 2748.3250\n",
            "Epoch 86/100\n",
            "103/103 [==============================] - 0s 2ms/step - loss: 17609465.8591 - mae: 2838.1075 - val_loss: 17364786.0000 - val_mae: 3028.1826\n",
            "Epoch 87/100\n",
            "103/103 [==============================] - 0s 2ms/step - loss: 32814920.6078 - mae: 3898.6391 - val_loss: 17134970.0000 - val_mae: 2687.8074\n",
            "Epoch 88/100\n",
            "103/103 [==============================] - 0s 2ms/step - loss: 24420953.8281 - mae: 3320.6557 - val_loss: 16725120.0000 - val_mae: 2862.3030\n",
            "Epoch 89/100\n",
            "103/103 [==============================] - 0s 2ms/step - loss: 22357817.2175 - mae: 3049.7742 - val_loss: 16489643.0000 - val_mae: 2779.1694\n",
            "Epoch 90/100\n",
            "103/103 [==============================] - 0s 2ms/step - loss: 17355355.8846 - mae: 2733.4618 - val_loss: 16567486.0000 - val_mae: 2844.2334\n",
            "Epoch 91/100\n",
            "103/103 [==============================] - 0s 2ms/step - loss: 20804812.0962 - mae: 3124.7406 - val_loss: 16285883.0000 - val_mae: 2651.2451\n",
            "Epoch 92/100\n",
            "103/103 [==============================] - 0s 2ms/step - loss: 27002954.3942 - mae: 3354.9330 - val_loss: 16219152.0000 - val_mae: 2642.7283\n",
            "Epoch 93/100\n",
            "103/103 [==============================] - 0s 2ms/step - loss: 24873547.0673 - mae: 3208.6590 - val_loss: 16038275.0000 - val_mae: 2707.7839\n",
            "Epoch 94/100\n",
            "103/103 [==============================] - 0s 2ms/step - loss: 36261984.4615 - mae: 4144.4813 - val_loss: 16420521.0000 - val_mae: 2544.7864\n",
            "Epoch 95/100\n",
            "103/103 [==============================] - 0s 2ms/step - loss: 16599220.3269 - mae: 2686.4681 - val_loss: 16303514.0000 - val_mae: 2864.2993\n",
            "Epoch 96/100\n",
            "103/103 [==============================] - 0s 2ms/step - loss: 25582279.7837 - mae: 3445.7379 - val_loss: 15738763.0000 - val_mae: 2572.7300\n",
            "Epoch 97/100\n",
            "103/103 [==============================] - 0s 2ms/step - loss: 30165493.8786 - mae: 3580.3001 - val_loss: 16200827.0000 - val_mae: 2865.8542\n",
            "Epoch 98/100\n",
            "103/103 [==============================] - 0s 2ms/step - loss: 18250945.3326 - mae: 2816.7464 - val_loss: 15639938.0000 - val_mae: 2548.2649\n",
            "Epoch 99/100\n",
            "103/103 [==============================] - 0s 2ms/step - loss: 39740322.4621 - mae: 3970.6571 - val_loss: 15598238.0000 - val_mae: 2542.4653\n",
            "Epoch 100/100\n",
            "103/103 [==============================] - 0s 2ms/step - loss: 23943128.4279 - mae: 3202.5074 - val_loss: 15635845.0000 - val_mae: 2516.7671\n"
          ],
          "name": "stdout"
        }
      ]
    },
    {
      "cell_type": "code",
      "metadata": {
        "colab": {
          "base_uri": "https://localhost:8080/"
        },
        "id": "Xv-JykhfDWSB",
        "outputId": "ed7606f1-0ad5-4ace-d753-49bcdccc1a60"
      },
      "source": [
        "model.evaluate(test_data,test_targets)"
      ],
      "execution_count": 14,
      "outputs": [
        {
          "output_type": "stream",
          "text": [
            "2/2 [==============================] - 0s 8ms/step - loss: 6186875.5000 - mae: 1802.0231\n"
          ],
          "name": "stdout"
        },
        {
          "output_type": "execute_result",
          "data": {
            "text/plain": [
              "[6186875.5, 1802.0230712890625]"
            ]
          },
          "metadata": {
            "tags": []
          },
          "execution_count": 14
        }
      ]
    },
    {
      "cell_type": "code",
      "metadata": {
        "colab": {
          "base_uri": "https://localhost:8080/"
        },
        "id": "r-tJzG6_ENwA",
        "outputId": "b4387c70-75e8-4eee-c832-39d13f62ebb8"
      },
      "source": [
        "pred=model.predict(test_data)\n",
        "pred[3]"
      ],
      "execution_count": 15,
      "outputs": [
        {
          "output_type": "execute_result",
          "data": {
            "text/plain": [
              "array([8649.475], dtype=float32)"
            ]
          },
          "metadata": {
            "tags": []
          },
          "execution_count": 15
        }
      ]
    },
    {
      "cell_type": "code",
      "metadata": {
        "colab": {
          "base_uri": "https://localhost:8080/"
        },
        "id": "73qxvll3E5fj",
        "outputId": "4cf2c2f6-287d-4459-fe3b-d6e481851c85"
      },
      "source": [
        "test_targets[3]"
      ],
      "execution_count": 16,
      "outputs": [
        {
          "output_type": "execute_result",
          "data": {
            "text/plain": [
              "9095.0"
            ]
          },
          "metadata": {
            "tags": []
          },
          "execution_count": 16
        }
      ]
    }
  ]
}