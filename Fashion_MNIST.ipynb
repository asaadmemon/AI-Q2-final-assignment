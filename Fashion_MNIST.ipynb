{
  "nbformat": 4,
  "nbformat_minor": 0,
  "metadata": {
    "colab": {
      "name": "Fashion MNIST.ipynb",
      "provenance": [],
      "collapsed_sections": []
    },
    "kernelspec": {
      "name": "python3",
      "display_name": "Python 3"
    },
    "language_info": {
      "name": "python"
    }
  },
  "cells": [
    {
      "cell_type": "code",
      "metadata": {
        "id": "H56jgyqOtWEZ"
      },
      "source": [
        "from tensorflow.keras.datasets import fashion_mnist"
      ],
      "execution_count": 3,
      "outputs": []
    },
    {
      "cell_type": "code",
      "metadata": {
        "id": "RaIU408QuDBq"
      },
      "source": [
        "(train_images, train_labels), (test_images, test_labels) = fashion_mnist.load_data()"
      ],
      "execution_count": 24,
      "outputs": []
    },
    {
      "cell_type": "code",
      "metadata": {
        "colab": {
          "base_uri": "https://localhost:8080/"
        },
        "id": "FTB3lxfMuZGt",
        "outputId": "7b18a25e-c20f-41c8-9dbe-43f501c5ec6b"
      },
      "source": [
        "print('train images original shape: ', train_images.shape)\n",
        "print('train labels original shape: ', train_labels.shape)\n",
        "print('test images original shape: ', test_images.shape)\n",
        "print('test labels original shape: ', test_labels.shape)\n",
        "\n",
        "print('train images original dimension: ', train_images.ndim)\n",
        "print('train labels original dimension: ', train_labels.ndim)\n",
        "print('test images original dimension: ', test_images.ndim)\n",
        "print('test labels original dimension: ', test_labels.ndim)"
      ],
      "execution_count": 25,
      "outputs": [
        {
          "output_type": "stream",
          "text": [
            "train images original shape:  (60000, 28, 28)\n",
            "train labels original shape:  (60000,)\n",
            "test images original shape:  (10000, 28, 28)\n",
            "test labels original shape:  (10000,)\n",
            "train images original dimension:  3\n",
            "train labels original dimension:  1\n",
            "test images original dimension:  3\n",
            "test labels original dimension:  1\n"
          ],
          "name": "stdout"
        }
      ]
    },
    {
      "cell_type": "code",
      "metadata": {
        "colab": {
          "base_uri": "https://localhost:8080/"
        },
        "id": "VI56iM9SvKzR",
        "outputId": "37289c08-05a7-4051-c03d-67697c68f9db"
      },
      "source": [
        "import numpy as np\n",
        "print(np.unique(train_labels))\n",
        "print(np.unique(test_labels))"
      ],
      "execution_count": 26,
      "outputs": [
        {
          "output_type": "stream",
          "text": [
            "[0 1 2 3 4 5 6 7 8 9]\n",
            "[0 1 2 3 4 5 6 7 8 9]\n"
          ],
          "name": "stdout"
        }
      ]
    },
    {
      "cell_type": "code",
      "metadata": {
        "colab": {
          "base_uri": "https://localhost:8080/",
          "height": 282
        },
        "id": "jUkBPETE0QWm",
        "outputId": "2a19d68a-bd25-4d4c-eab7-8c00c0e862a1"
      },
      "source": [
        "import matplotlib.pyplot as plt\n",
        "\n",
        "digit = train_images[7]\n",
        "print('Class label:', train_labels[7])\n",
        "plt.imshow(digit, cmap=plt.cm.binary)\n",
        "plt.show()"
      ],
      "execution_count": 29,
      "outputs": [
        {
          "output_type": "stream",
          "text": [
            "Class label: 2\n"
          ],
          "name": "stdout"
        },
        {
          "output_type": "display_data",
          "data": {
            "image/png": "[encoded data removed]",
            "text/plain": [
              "<Figure size 432x288 with 1 Axes>"
            ]
          },
          "metadata": {
            "tags": [],
            "needs_background": "light"
          }
        }
      ]
    },
    {
      "cell_type": "code",
      "metadata": {
        "colab": {
          "base_uri": "https://localhost:8080/",
          "height": 282
        },
        "id": "8CFo4EzD024T",
        "outputId": "6eeb3365-0470-4111-a9e7-7f2344443c5f"
      },
      "source": [
        "digit = test_images[0]\n",
        "print('Class label:', test_labels[0])\n",
        "plt.imshow(digit, cmap=plt.cm.binary)\n",
        "plt.show()"
      ],
      "execution_count": 30,
      "outputs": [
        {
          "output_type": "stream",
          "text": [
            "Class label: 9\n"
          ],
          "name": "stdout"
        },
        {
          "output_type": "display_data",
          "data": {
            "image/png": "[encoded data removed]",
            "text/plain": [
              "<Figure size 432x288 with 1 Axes>"
            ]
          },
          "metadata": {
            "tags": [],
            "needs_background": "light"
          }
        }
      ]
    },
    {
      "cell_type": "code",
      "metadata": {
        "colab": {
          "base_uri": "https://localhost:8080/"
        },
        "id": "bEQJf3ogv06s",
        "outputId": "6954cbe0-ab3a-4398-e8f7-f975d643c4c3"
      },
      "source": [
        "train_images = train_images.reshape(60000, 28*28)\n",
        "train_images = train_images.astype('float32') / 255\n",
        "\n",
        "test_images = test_images.reshape(10000, 28*28)\n",
        "test_images = test_images.astype('float32') / 255\n",
        "\n",
        "print('train images reshaped shape: ', train_images.shape)\n",
        "print('test images reshaped shape: ', test_images.shape)\n",
        "\n",
        "print('train images reshaped dimension: ', train_images.ndim)\n",
        "print('test images reshaped dimension: ', test_images.ndim)"
      ],
      "execution_count": 31,
      "outputs": [
        {
          "output_type": "stream",
          "text": [
            "train images reshaped shape:  (60000, 784)\n",
            "test images reshaped shape:  (10000, 784)\n",
            "train images reshaped dimension:  2\n",
            "test images reshaped dimension:  2\n"
          ],
          "name": "stdout"
        }
      ]
    },
    {
      "cell_type": "code",
      "metadata": {
        "id": "GKHFd8qlwwrw"
      },
      "source": [
        "from tensorflow.keras import models, layers\n",
        "\n",
        "model = models.Sequential()\n",
        "model.add(layers.Dense(512, activation = 'relu', input_shape = (784,)))\n",
        "model.add(layers.Dense(10, activation = 'softmax'))"
      ],
      "execution_count": 32,
      "outputs": []
    },
    {
      "cell_type": "code",
      "metadata": {
        "id": "j0pNH5Ehybx6"
      },
      "source": [
        "model.compile(optimizer = 'rmsprop', loss = 'categorical_crossentropy', metrics = ['acc'])\n"
      ],
      "execution_count": 33,
      "outputs": []
    },
    {
      "cell_type": "code",
      "metadata": {
        "colab": {
          "base_uri": "https://localhost:8080/"
        },
        "id": "o1CIaoK_y8ef",
        "outputId": "5c7f8813-89ea-4ba6-b29d-d48213c1b40d"
      },
      "source": [
        "from tensorflow.keras.utils import to_categorical\n",
        "\n",
        "train_labels = to_categorical(train_labels)\n",
        "test_labels = to_categorical(test_labels)\n",
        "\n",
        "train_labels[0]"
      ],
      "execution_count": 34,
      "outputs": [
        {
          "output_type": "execute_result",
          "data": {
            "text/plain": [
              "array([0., 0., 0., 0., 0., 0., 0., 0., 0., 1.], dtype=float32)"
            ]
          },
          "metadata": {
            "tags": []
          },
          "execution_count": 34
        }
      ]
    },
    {
      "cell_type": "code",
      "metadata": {
        "colab": {
          "base_uri": "https://localhost:8080/"
        },
        "id": "XfJ9p8W71F2q",
        "outputId": "50834678-0ac2-486d-e165-6da4dfcf4465"
      },
      "source": [
        "model.fit(train_images, train_labels, epochs = 20, batch_size = 6000)"
      ],
      "execution_count": 37,
      "outputs": [
        {
          "output_type": "stream",
          "text": [
            "Epoch 1/20\n",
            "10/10 [==============================] - 2s 199ms/step - loss: 0.6137 - acc: 0.7814\n",
            "Epoch 2/20\n",
            "10/10 [==============================] - 2s 196ms/step - loss: 0.5608 - acc: 0.7966\n",
            "Epoch 3/20\n",
            "10/10 [==============================] - 2s 195ms/step - loss: 0.5635 - acc: 0.7995\n",
            "Epoch 4/20\n",
            "10/10 [==============================] - 2s 192ms/step - loss: 0.5312 - acc: 0.8098\n",
            "Epoch 5/20\n",
            "10/10 [==============================] - 2s 193ms/step - loss: 0.5158 - acc: 0.8129\n",
            "Epoch 6/20\n",
            "10/10 [==============================] - 2s 193ms/step - loss: 0.5064 - acc: 0.8122\n",
            "Epoch 7/20\n",
            "10/10 [==============================] - 2s 199ms/step - loss: 0.4696 - acc: 0.8295\n",
            "Epoch 8/20\n",
            "10/10 [==============================] - 2s 196ms/step - loss: 0.5006 - acc: 0.8193\n",
            "Epoch 9/20\n",
            "10/10 [==============================] - 2s 195ms/step - loss: 0.4495 - acc: 0.8403\n",
            "Epoch 10/20\n",
            "10/10 [==============================] - 2s 195ms/step - loss: 0.4738 - acc: 0.8267\n",
            "Epoch 11/20\n",
            "10/10 [==============================] - 2s 192ms/step - loss: 0.4386 - acc: 0.8409\n",
            "Epoch 12/20\n",
            "10/10 [==============================] - 2s 195ms/step - loss: 0.4395 - acc: 0.8396\n",
            "Epoch 13/20\n",
            "10/10 [==============================] - 2s 194ms/step - loss: 0.4348 - acc: 0.8388\n",
            "Epoch 14/20\n",
            "10/10 [==============================] - 2s 193ms/step - loss: 0.4079 - acc: 0.8496\n",
            "Epoch 15/20\n",
            "10/10 [==============================] - 2s 192ms/step - loss: 0.4154 - acc: 0.8465\n",
            "Epoch 16/20\n",
            "10/10 [==============================] - 2s 193ms/step - loss: 0.3994 - acc: 0.8540\n",
            "Epoch 17/20\n",
            "10/10 [==============================] - 2s 195ms/step - loss: 0.4004 - acc: 0.8530\n",
            "Epoch 18/20\n",
            "10/10 [==============================] - 2s 192ms/step - loss: 0.4038 - acc: 0.8486\n",
            "Epoch 19/20\n",
            "10/10 [==============================] - 2s 192ms/step - loss: 0.3785 - acc: 0.8594\n",
            "Epoch 20/20\n",
            "10/10 [==============================] - 2s 193ms/step - loss: 0.3689 - acc: 0.8667\n"
          ],
          "name": "stdout"
        },
        {
          "output_type": "execute_result",
          "data": {
            "text/plain": [
              "<tensorflow.python.keras.callbacks.History at 0x7fd54e070fd0>"
            ]
          },
          "metadata": {
            "tags": []
          },
          "execution_count": 37
        }
      ]
    },
    {
      "cell_type": "code",
      "metadata": {
        "colab": {
          "base_uri": "https://localhost:8080/"
        },
        "id": "hKCJms9Y1mv9",
        "outputId": "5c0b80e3-4fd4-407e-c7ab-043faa37981d"
      },
      "source": [
        "test_loss, test_acc = model.evaluate(test_images, test_labels)\n",
        "print('test_acc', test_acc)"
      ],
      "execution_count": 38,
      "outputs": [
        {
          "output_type": "stream",
          "text": [
            "313/313 [==============================] - 1s 2ms/step - loss: 0.4558 - acc: 0.8356\n",
            "test_acc 0.8356000185012817\n"
          ],
          "name": "stdout"
        }
      ]
    }
  ]
}